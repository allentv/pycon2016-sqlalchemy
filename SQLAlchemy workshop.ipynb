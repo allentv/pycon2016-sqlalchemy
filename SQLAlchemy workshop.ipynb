{
 "cells": [
  {
   "cell_type": "markdown",
   "metadata": {},
   "source": [
    "# The power of SQLAlchemy\n",
    "\n",
    "David Mcilwee\n",
    "- david@mcilwee.me\n",
    "\n",
    "### What we're going to cover\n",
    "* SQL recap\n",
    "* Tables, Metadata & Modelling\n",
    "* Exercise 1: A tree\n",
    "* Sessions, events and mapper extensions\n",
    "* Exercise 2: Audit extension"
   ]
  },
  {
   "cell_type": "markdown",
   "metadata": {},
   "source": [
    "### What you will need\n",
    "* python 2.7 / 3.4 (This notebook runs 3.4)\n",
    "* pip install sqlalchemy jupyter"
   ]
  },
  {
   "cell_type": "code",
   "execution_count": 1,
   "metadata": {
    "collapsed": true
   },
   "outputs": [],
   "source": [
    "# Boring functions\n",
    "from datetime import datetime\n",
    "from pprint import pprint\n",
    "from operator import itemgetter\n",
    "\n",
    "def printq(q):\n",
    "    print(str(q)+\"\\n\")\n",
    "    "
   ]
  },
  {
   "cell_type": "markdown",
   "metadata": {},
   "source": [
    "### SQLAlchemy setup\n",
    "Let's create an engine (a DB connection)"
   ]
  },
  {
   "cell_type": "code",
   "execution_count": 2,
   "metadata": {
    "collapsed": false
   },
   "outputs": [],
   "source": [
    "from sqlalchemy import create_engine\n",
    "engine = create_engine('sqlite:///:memory:')"
   ]
  },
  {
   "cell_type": "markdown",
   "metadata": {},
   "source": [
    "And our MetaData, to help manage our view of the data model"
   ]
  },
  {
   "cell_type": "code",
   "execution_count": 3,
   "metadata": {
    "collapsed": false
   },
   "outputs": [
    {
     "data": {
      "text/plain": [
       "MetaData(bind=None)"
      ]
     },
     "execution_count": 3,
     "metadata": {},
     "output_type": "execute_result"
    }
   ],
   "source": [
    "from sqlalchemy import MetaData\n",
    "metadata = MetaData()\n",
    "metadata"
   ]
  },
  {
   "cell_type": "markdown",
   "metadata": {},
   "source": [
    "Our example Domain, films and actors"
   ]
  },
  {
   "cell_type": "code",
   "execution_count": 4,
   "metadata": {
    "collapsed": false
   },
   "outputs": [],
   "source": [
    "from sqlalchemy import Table, ForeignKey, Column, DateTime, Unicode, Integer\n",
    "\n",
    "films = Table('films', metadata,\n",
    "    Column('id', Integer, primary_key=True),\n",
    "    Column('title', Unicode(40), nullable=False),\n",
    "    Column('date_produced', DateTime),\n",
    "    Column('director_id', Integer, ForeignKey('directors.id'), nullable=True)\n",
    ")\n",
    "\n",
    "actors = Table('actors', metadata,\n",
    "  Column('id', Integer, primary_key=True),\n",
    "  Column('name', Unicode, nullable=False)\n",
    ")\n",
    "\n",
    "actors = Table('directors', metadata,\n",
    "  Column('id', Integer, primary_key=True),\n",
    "  Column('name', Unicode, nullable=False)\n",
    ")\n",
    "\n",
    "actors_to_films = Table('actors_to_films', metadata,\n",
    "  Column('actor_id', Integer, ForeignKey('actors.id')),\n",
    "  Column('film_id', Integer, ForeignKey('films.id'))\n",
    ")\n",
    "\n",
    "genres = Table('genre', metadata,\n",
    "  Column('id', Integer, primary_key=True),\n",
    "  Column('name', Unicode, nullable=False)\n",
    ")\n",
    "\n",
    "genre_to_films = Table('genre_to_films', metadata,\n",
    "  Column('genre_id', Integer, ForeignKey('genre.id')),\n",
    "  Column('film_id', Integer, ForeignKey('films.id'))\n",
    ")"
   ]
  },
  {
   "cell_type": "markdown",
   "metadata": {},
   "source": [
    "Lets create our tables"
   ]
  },
  {
   "cell_type": "code",
   "execution_count": 5,
   "metadata": {
    "collapsed": false
   },
   "outputs": [],
   "source": [
    "metadata.create_all(bind=engine)"
   ]
  },
  {
   "cell_type": "markdown",
   "metadata": {},
   "source": [
    "### Inserting"
   ]
  },
  {
   "cell_type": "markdown",
   "metadata": {},
   "source": [
    "Lets fill our DB it with some example data"
   ]
  },
  {
   "cell_type": "code",
   "execution_count": 6,
   "metadata": {
    "collapsed": false
   },
   "outputs": [
    {
     "data": {
      "text/plain": [
       "<sqlalchemy.engine.result.ResultProxy at 0x7f52716ae898>"
      ]
     },
     "execution_count": 6,
     "metadata": {},
     "output_type": "execute_result"
    }
   ],
   "source": [
    "engine.execute(\n",
    "    films.insert(),\n",
    "    title='Star Wars Episode IV - A New Hope',\n",
    "    date_produced=datetime(1977, 3, 26)\n",
    ")"
   ]
  },
  {
   "cell_type": "markdown",
   "metadata": {},
   "source": [
    "Lets do a bulk insert"
   ]
  },
  {
   "cell_type": "code",
   "execution_count": 7,
   "metadata": {
    "collapsed": false
   },
   "outputs": [
    {
     "data": {
      "text/plain": [
       "<sqlalchemy.engine.result.ResultProxy at 0x7f5271621080>"
      ]
     },
     "execution_count": 7,
     "metadata": {},
     "output_type": "execute_result"
    }
   ],
   "source": [
    "movie_data = [\n",
    "    {'title': 'The Thing', 'date_produced': datetime.now(), 'kind': 'Action'},\n",
    "    {'title': 'The Godfather', 'date_produced': datetime(1972, 1, 1), 'kind': 'Crime, Drama'},\n",
    "    {'title': 'The Shawshank Redemption', 'date_produced': datetime(1994, 1, 1), 'kind': 'Crime, Drama'},\n",
    "    {'title': 'Schindlers List', 'date_produced': datetime(1993, 1, 1), 'kind': 'Biography, Drama, History'},\n",
    "    {'title': 'Raging Bull', 'date_produced': datetime(1980, 1, 1), 'kind': 'Biography, Drama, Sport'},\n",
    "    {'title': 'Casablanca', 'date_produced': datetime(1942, 1, 1), 'kind': ' Drama, Romance, War'},\n",
    "    {'title': 'Citizen Kane', 'date_produced': datetime(1941, 1, 1), 'kind': 'Drama, Mystery'},\n",
    "    {'title': 'Gone with the Wind', 'date_produced': datetime(1939, 1, 1), 'kind': 'Drama, History, Romance'},\n",
    "    {'title': 'The Wizard of Oz', 'date_produced': datetime(1939, 1, 1), 'kind': 'Adventure, Family, Fantasy'},\n",
    "    {'title': 'One Flew Over the Cuckoos Nest', 'date_produced': datetime(1975, 1, 1), 'kind': 'Drama'},\n",
    "    {'title': 'Lawrence of Arabia', 'date_produced': datetime(1962, 1, 1), 'kind': 'Adventure, Biography, Drama'},\n",
    "    {'title': 'Vertigo', 'date_produced': datetime(1958, 1, 1), 'kind': 'Mystery, Romance, Thriller'},\n",
    "    {'title': 'Psycho', 'date_produced': datetime(1960, 1, 1), 'kind': ' Horror, Mystery, Thriller'},\n",
    "    {'title': 'The Godfather: Part II', 'date_produced': datetime(1974, 1, 1), 'kind': 'Crime, Drama'},\n",
    "    {'title': 'On the Waterfront', 'date_produced': datetime(1954, 1, 1), 'kind': 'Crime, Drama, Thriller'},\n",
    "    {'title': 'Sunset Boulevard', 'date_produced': datetime(1950, 1, 1), 'kind': ' Drama, Film-Noir'},\n",
    "    {'title': 'Forrest Gump', 'date_produced': datetime(1994, 1, 1), 'kind': ' Comedy, Drama'},\n",
    "    {'title': 'The Sound of Music', 'date_produced': datetime(1965, 1, 1), 'kind': 'Biography, Drama, Family'},\n",
    "    {'title': '12 Angry Men', 'date_produced': datetime(1957, 1, 1), 'kind': 'Crime, Drama'},\n",
    "    {'title': 'West Side Story', 'date_produced': datetime(1961, 1, 1), 'kind': 'Crime, Drama, Musical'},    \n",
    "]\n",
    "\n",
    "# Strip out the 'kind' column, we're going to add that later\n",
    "insert_data = [{'title': r['title'], 'date_produced': r['date_produced']} for r in movie_data]\n",
    "               \n",
    "engine.execute(films.insert(), insert_data)"
   ]
  },
  {
   "cell_type": "markdown",
   "metadata": {},
   "source": [
    "Lets check the bulk insert SQL to make sure it's actually doing it the way we want to."
   ]
  },
  {
   "cell_type": "code",
   "execution_count": 8,
   "metadata": {
    "collapsed": false
   },
   "outputs": [
    {
     "name": "stdout",
     "output_type": "stream",
     "text": [
      "INSERT INTO films (title, date_produced) VALUES (?, ?), (?, ?), (?, ?), (?, ?), (?, ?), (?, ?), (?, ?), (?, ?), (?, ?), (?, ?), (?, ?), (?, ?), (?, ?), (?, ?), (?, ?), (?, ?), (?, ?), (?, ?), (?, ?), (?, ?)\n",
      "\n"
     ]
    }
   ],
   "source": [
    "query = films.insert(insert_data, bind=engine)\n",
    "printq(query)"
   ]
  },
  {
   "cell_type": "markdown",
   "metadata": {},
   "source": [
    "Notice here our usage of ``bind``, this is to tell SQLAlchemy what we're going to be inserting in against so it can do the right thing. Normally this would happen automatically in ``engine.execute``."
   ]
  },
  {
   "cell_type": "markdown",
   "metadata": {},
   "source": [
    "## Querying, our bread and butter"
   ]
  },
  {
   "cell_type": "markdown",
   "metadata": {},
   "source": [
    "Just a plain select, by default SQLAlchemy will query all columns defined"
   ]
  },
  {
   "cell_type": "code",
   "execution_count": 9,
   "metadata": {
    "collapsed": false
   },
   "outputs": [
    {
     "name": "stdout",
     "output_type": "stream",
     "text": [
      "(1, 'Star Wars Episode IV - A New Hope', datetime.datetime(1977, 3, 26, 0, 0), None)\n",
      "(2, 'The Thing', datetime.datetime(2016, 10, 27, 21, 7, 19, 393845), None)\n",
      "(3, 'The Godfather', datetime.datetime(1972, 1, 1, 0, 0), None)\n",
      "(4, 'The Shawshank Redemption', datetime.datetime(1994, 1, 1, 0, 0), None)\n",
      "(5, 'Schindlers List', datetime.datetime(1993, 1, 1, 0, 0), None)\n",
      "(6, 'Raging Bull', datetime.datetime(1980, 1, 1, 0, 0), None)\n",
      "(7, 'Casablanca', datetime.datetime(1942, 1, 1, 0, 0), None)\n",
      "(8, 'Citizen Kane', datetime.datetime(1941, 1, 1, 0, 0), None)\n",
      "(9, 'Gone with the Wind', datetime.datetime(1939, 1, 1, 0, 0), None)\n",
      "(10, 'The Wizard of Oz', datetime.datetime(1939, 1, 1, 0, 0), None)\n",
      "(11, 'One Flew Over the Cuckoos Nest', datetime.datetime(1975, 1, 1, 0, 0), None)\n",
      "(12, 'Lawrence of Arabia', datetime.datetime(1962, 1, 1, 0, 0), None)\n",
      "(13, 'Vertigo', datetime.datetime(1958, 1, 1, 0, 0), None)\n",
      "(14, 'Psycho', datetime.datetime(1960, 1, 1, 0, 0), None)\n",
      "(15, 'The Godfather: Part II', datetime.datetime(1974, 1, 1, 0, 0), None)\n",
      "(16, 'On the Waterfront', datetime.datetime(1954, 1, 1, 0, 0), None)\n",
      "(17, 'Sunset Boulevard', datetime.datetime(1950, 1, 1, 0, 0), None)\n",
      "(18, 'Forrest Gump', datetime.datetime(1994, 1, 1, 0, 0), None)\n",
      "(19, 'The Sound of Music', datetime.datetime(1965, 1, 1, 0, 0), None)\n",
      "(20, '12 Angry Men', datetime.datetime(1957, 1, 1, 0, 0), None)\n",
      "(21, 'West Side Story', datetime.datetime(1961, 1, 1, 0, 0), None)\n"
     ]
    }
   ],
   "source": [
    "results = engine.execute(films.select())\n",
    "for row in results:\n",
    "    pprint(row)"
   ]
  },
  {
   "cell_type": "markdown",
   "metadata": {},
   "source": [
    "### Actually specifying the columns we care about.\n",
    "\n",
    "Both ``films.select`` and ``select([films])`` are equivalent, in some cases one is easier to use over the other."
   ]
  },
  {
   "cell_type": "code",
   "execution_count": 10,
   "metadata": {
    "collapsed": false
   },
   "outputs": [
    {
     "name": "stdout",
     "output_type": "stream",
     "text": [
      "SELECT films.id, films.title \n",
      "FROM films\n",
      "\n"
     ]
    }
   ],
   "source": [
    "from sqlalchemy import select\n",
    "query = select([films.c.id, films.c.title])\n",
    "\n",
    "printq(query)"
   ]
  },
  {
   "cell_type": "markdown",
   "metadata": {},
   "source": [
    "What happens if I only want the first row / value?"
   ]
  },
  {
   "cell_type": "code",
   "execution_count": 11,
   "metadata": {
    "collapsed": false
   },
   "outputs": [
    {
     "name": "stdout",
     "output_type": "stream",
     "text": [
      "(1, 'Star Wars Episode IV - A New Hope', datetime.datetime(1977, 3, 26, 0, 0), None)\n"
     ]
    }
   ],
   "source": [
    "row = engine.execute(films.select()).fetchone()\n",
    "print(row)"
   ]
  },
  {
   "cell_type": "code",
   "execution_count": 12,
   "metadata": {
    "collapsed": false
   },
   "outputs": [
    {
     "name": "stdout",
     "output_type": "stream",
     "text": [
      "1\n"
     ]
    }
   ],
   "source": [
    "first_id = engine.execute(films.select()).scalar()\n",
    "print(first_id)"
   ]
  },
  {
   "cell_type": "markdown",
   "metadata": {},
   "source": [
    "### Filtering"
   ]
  },
  {
   "cell_type": "markdown",
   "metadata": {},
   "source": [
    "Pretty much like SQL!"
   ]
  },
  {
   "cell_type": "code",
   "execution_count": 13,
   "metadata": {
    "collapsed": false
   },
   "outputs": [
    {
     "name": "stdout",
     "output_type": "stream",
     "text": [
      "SELECT films.id, films.title, films.date_produced, films.director_id \n",
      "FROM films \n",
      "WHERE films.id > :id_1\n",
      "\n"
     ]
    }
   ],
   "source": [
    "query = films.select().where(films.c.id > 5)\n",
    "printq(query)"
   ]
  },
  {
   "cell_type": "code",
   "execution_count": 14,
   "metadata": {
    "collapsed": false
   },
   "outputs": [
    {
     "name": "stdout",
     "output_type": "stream",
     "text": [
      "(6, 'Raging Bull', datetime.datetime(1980, 1, 1, 0, 0), None)\n",
      "(7, 'Casablanca', datetime.datetime(1942, 1, 1, 0, 0), None)\n",
      "(8, 'Citizen Kane', datetime.datetime(1941, 1, 1, 0, 0), None)\n",
      "(9, 'Gone with the Wind', datetime.datetime(1939, 1, 1, 0, 0), None)\n",
      "(10, 'The Wizard of Oz', datetime.datetime(1939, 1, 1, 0, 0), None)\n",
      "(11, 'One Flew Over the Cuckoos Nest', datetime.datetime(1975, 1, 1, 0, 0), None)\n",
      "(12, 'Lawrence of Arabia', datetime.datetime(1962, 1, 1, 0, 0), None)\n",
      "(13, 'Vertigo', datetime.datetime(1958, 1, 1, 0, 0), None)\n",
      "(14, 'Psycho', datetime.datetime(1960, 1, 1, 0, 0), None)\n",
      "(15, 'The Godfather: Part II', datetime.datetime(1974, 1, 1, 0, 0), None)\n",
      "(16, 'On the Waterfront', datetime.datetime(1954, 1, 1, 0, 0), None)\n",
      "(17, 'Sunset Boulevard', datetime.datetime(1950, 1, 1, 0, 0), None)\n",
      "(18, 'Forrest Gump', datetime.datetime(1994, 1, 1, 0, 0), None)\n",
      "(19, 'The Sound of Music', datetime.datetime(1965, 1, 1, 0, 0), None)\n",
      "(20, '12 Angry Men', datetime.datetime(1957, 1, 1, 0, 0), None)\n",
      "(21, 'West Side Story', datetime.datetime(1961, 1, 1, 0, 0), None)\n"
     ]
    }
   ],
   "source": [
    "rows = engine.execute(query).fetchall()\n",
    "for r in rows:\n",
    "    pprint(r)"
   ]
  },
  {
   "cell_type": "markdown",
   "metadata": {},
   "source": [
    "Ask the audience for some queryies.\n"
   ]
  },
  {
   "cell_type": "markdown",
   "metadata": {},
   "source": [
    "## Ordering / Limit"
   ]
  },
  {
   "cell_type": "markdown",
   "metadata": {},
   "source": [
    "Limit / offsets are just another call"
   ]
  },
  {
   "cell_type": "code",
   "execution_count": 15,
   "metadata": {
    "collapsed": false
   },
   "outputs": [
    {
     "name": "stdout",
     "output_type": "stream",
     "text": [
      "SELECT films.title, films.date_produced \n",
      "FROM films\n",
      " LIMIT :param_1\n",
      "\n",
      "('Star Wars Episode IV - A New Hope', datetime.datetime(1977, 3, 26, 0, 0))\n",
      "('The Thing', datetime.datetime(2016, 10, 27, 21, 7, 19, 393845))\n",
      "('The Godfather', datetime.datetime(1972, 1, 1, 0, 0))\n",
      "('The Shawshank Redemption', datetime.datetime(1994, 1, 1, 0, 0))\n"
     ]
    }
   ],
   "source": [
    "query = select([\n",
    "    films.c.title,\n",
    "    films.c.date_produced\n",
    "]).limit(4)\n",
    "printq(query)\n",
    "\n",
    "rows = engine.execute(query).fetchall()\n",
    "for r in rows:\n",
    "    pprint(r)"
   ]
  },
  {
   "cell_type": "code",
   "execution_count": 16,
   "metadata": {
    "collapsed": false
   },
   "outputs": [
    {
     "name": "stdout",
     "output_type": "stream",
     "text": [
      "SELECT films.title, films.date_produced \n",
      "FROM films\n",
      " LIMIT :param_1 OFFSET :param_2\n",
      "\n",
      "('The Thing', datetime.datetime(2016, 10, 27, 21, 7, 19, 393845))\n",
      "('The Godfather', datetime.datetime(1972, 1, 1, 0, 0))\n"
     ]
    }
   ],
   "source": [
    "query = select([\n",
    "    films.c.title,\n",
    "    films.c.date_produced\n",
    "]).limit(2).offset(1)\n",
    "printq(query)\n",
    "\n",
    "rows = engine.execute(query).fetchall()\n",
    "for r in rows:\n",
    "    pprint(r)"
   ]
  },
  {
   "cell_type": "markdown",
   "metadata": {},
   "source": [
    "Ordering can be done similarly"
   ]
  },
  {
   "cell_type": "code",
   "execution_count": 17,
   "metadata": {
    "collapsed": false
   },
   "outputs": [
    {
     "name": "stdout",
     "output_type": "stream",
     "text": [
      "SELECT films.title, films.date_produced \n",
      "FROM films ORDER BY films.date_produced\n",
      " LIMIT :param_1\n",
      "\n",
      "('Gone with the Wind', datetime.datetime(1939, 1, 1, 0, 0))\n",
      "('The Wizard of Oz', datetime.datetime(1939, 1, 1, 0, 0))\n"
     ]
    }
   ],
   "source": [
    "from sqlalchemy import func\n",
    "query = select([\n",
    "    films.c.title,\n",
    "    films.c.date_produced\n",
    "]).limit(2).order_by(films.c.date_produced)\n",
    "printq(query)\n",
    "\n",
    "rows = engine.execute(query).fetchall()\n",
    "for r in rows:\n",
    "    pprint(r)"
   ]
  },
  {
   "cell_type": "markdown",
   "metadata": {},
   "source": [
    "Or ordering explicitly ascending/descending"
   ]
  },
  {
   "cell_type": "code",
   "execution_count": 18,
   "metadata": {
    "collapsed": false
   },
   "outputs": [
    {
     "name": "stdout",
     "output_type": "stream",
     "text": [
      "SELECT films.title, films.date_produced \n",
      "FROM films ORDER BY films.date_produced DESC\n",
      " LIMIT :param_1\n",
      "\n",
      "('The Thing', datetime.datetime(2016, 10, 27, 21, 7, 19, 393845))\n",
      "('The Shawshank Redemption', datetime.datetime(1994, 1, 1, 0, 0))\n"
     ]
    }
   ],
   "source": [
    "from sqlalchemy import func\n",
    "query = select([\n",
    "    films.c.title,\n",
    "    films.c.date_produced\n",
    "]).limit(2).order_by(films.c.date_produced.desc())\n",
    "printq(query)\n",
    "\n",
    "rows = engine.execute(query).fetchall()\n",
    "for r in rows:\n",
    "    pprint(r)"
   ]
  },
  {
   "cell_type": "markdown",
   "metadata": {},
   "source": [
    "### Inserting in some more query data\n",
    "How we would typically do a many to many relationship insert. Keep this in mind later on as the declarative ORM makes this **vastly** easier."
   ]
  },
  {
   "cell_type": "code",
   "execution_count": 19,
   "metadata": {
    "collapsed": false
   },
   "outputs": [
    {
     "data": {
      "text/plain": [
       "<sqlalchemy.engine.result.ResultProxy at 0x7f5271678a58>"
      ]
     },
     "execution_count": 19,
     "metadata": {},
     "output_type": "execute_result"
    }
   ],
   "source": [
    "# Inserting in the genre mapping\n",
    "\n",
    "# STOP AND THINK OF THE DIFFERENCE BETWEEN TABLES AND A NESTED DATA STRUCTURE / TREES\n",
    "\n",
    "unique_genres = set( r.strip() for r in movie_data for r in r['kind'].split(','))\n",
    "engine.execute(genres.insert(), [{'name': r} for r in unique_genres])\n",
    "\n",
    "all_movies_lookup = dict(\n",
    "    (row.title, row.id)\n",
    "    for row in \n",
    "    engine.execute(films.select())\n",
    ")\n",
    "all_genres_lookup = dict(\n",
    "    (row.name, row.id)\n",
    "    for row in \n",
    "    engine.execute(genres.select())\n",
    ")\n",
    "\n",
    "to_insert_data = []\n",
    "for row in movie_data:\n",
    "    for row_genre in map(str.strip, row['kind'].split(',')):    \n",
    "        to_insert_data.append(\n",
    "            {\n",
    "                'film_id': all_movies_lookup[row['title']],\n",
    "                'genre_id': all_genres_lookup[row_genre],\n",
    "            }\n",
    "        )\n",
    "    \n",
    "# Insert our Many to Many mapping\n",
    "engine.execute(genre_to_films.delete(), to_insert_data)\n",
    "engine.execute(genre_to_films.insert(), to_insert_data)\n"
   ]
  },
  {
   "cell_type": "markdown",
   "metadata": {},
   "source": [
    "## SQL joins\n",
    "As easy as SQL, if not a bit easier!"
   ]
  },
  {
   "cell_type": "code",
   "execution_count": 20,
   "metadata": {
    "collapsed": false
   },
   "outputs": [
    {
     "name": "stdout",
     "output_type": "stream",
     "text": [
      "SELECT genre.name, films.title \n",
      "FROM genre JOIN genre_to_films ON genre.id = genre_to_films.genre_id JOIN films ON films.id = genre_to_films.film_id ORDER BY genre.name\n",
      " LIMIT :param_1\n",
      "\n",
      "('Action', 'The Thing')\n",
      "('Adventure', 'The Wizard of Oz')\n",
      "('Adventure', 'Lawrence of Arabia')\n",
      "('Biography', 'Schindlers List')\n",
      "('Biography', 'Raging Bull')\n",
      "('Biography', 'Lawrence of Arabia')\n",
      "('Biography', 'The Sound of Music')\n",
      "('Comedy', 'Forrest Gump')\n",
      "('Crime', 'The Godfather')\n",
      "('Crime', 'The Shawshank Redemption')\n"
     ]
    }
   ],
   "source": [
    "query = select([\n",
    "    genres.c.name,\n",
    "    films.c.title\n",
    "]).select_from(\n",
    "    genres.join(genre_to_films, genres.c.id==genre_to_films.c.genre_id\n",
    "    ).join(films, films.c.id==genre_to_films.c.film_id)\n",
    ").order_by(genres.c.name).limit(10)\n",
    "printq(query)\n",
    "rows = engine.execute(query).fetchall()\n",
    "for r in rows:\n",
    "    pprint(r)"
   ]
  },
  {
   "cell_type": "markdown",
   "metadata": {},
   "source": [
    "### Aliasing\n",
    "Sometimes you will come across situations where you need to join to the same table twice.\n",
    "\n",
    "Here I want to find out for every film, what films are older than it?"
   ]
  },
  {
   "cell_type": "code",
   "execution_count": 21,
   "metadata": {
    "collapsed": false
   },
   "outputs": [
    {
     "name": "stdout",
     "output_type": "stream",
     "text": [
      "SELECT films_1.id, films_1.title, films_1.date_produced, films_1.director_id, films_2.id, films_2.title, films_2.date_produced, films_2.director_id \n",
      "FROM films AS films_1, films AS films_2 \n",
      "WHERE films_1.date_produced > films_2.date_produced ORDER BY films_1.title\n",
      "\n",
      "(20, '12 Angry Men', datetime.datetime(1957, 1, 1, 0, 0), None, 7, 'Casablanca', datetime.datetime(1942, 1, 1, 0, 0), None)\n",
      "(20, '12 Angry Men', datetime.datetime(1957, 1, 1, 0, 0), None, 8, 'Citizen Kane', datetime.datetime(1941, 1, 1, 0, 0), None)\n",
      "(20, '12 Angry Men', datetime.datetime(1957, 1, 1, 0, 0), None, 9, 'Gone with the Wind', datetime.datetime(1939, 1, 1, 0, 0), None)\n",
      "(20, '12 Angry Men', datetime.datetime(1957, 1, 1, 0, 0), None, 10, 'The Wizard of Oz', datetime.datetime(1939, 1, 1, 0, 0), None)\n",
      "(20, '12 Angry Men', datetime.datetime(1957, 1, 1, 0, 0), None, 16, 'On the Waterfront', datetime.datetime(1954, 1, 1, 0, 0), None)\n",
      "(20, '12 Angry Men', datetime.datetime(1957, 1, 1, 0, 0), None, 17, 'Sunset Boulevard', datetime.datetime(1950, 1, 1, 0, 0), None)\n",
      "(7, 'Casablanca', datetime.datetime(1942, 1, 1, 0, 0), None, 8, 'Citizen Kane', datetime.datetime(1941, 1, 1, 0, 0), None)\n",
      "(7, 'Casablanca', datetime.datetime(1942, 1, 1, 0, 0), None, 9, 'Gone with the Wind', datetime.datetime(1939, 1, 1, 0, 0), None)\n",
      "(7, 'Casablanca', datetime.datetime(1942, 1, 1, 0, 0), None, 10, 'The Wizard of Oz', datetime.datetime(1939, 1, 1, 0, 0), None)\n",
      "(8, 'Citizen Kane', datetime.datetime(1941, 1, 1, 0, 0), None, 9, 'Gone with the Wind', datetime.datetime(1939, 1, 1, 0, 0), None)\n",
      "(8, 'Citizen Kane', datetime.datetime(1941, 1, 1, 0, 0), None, 10, 'The Wizard of Oz', datetime.datetime(1939, 1, 1, 0, 0), None)\n",
      "(18, 'Forrest Gump', datetime.datetime(1994, 1, 1, 0, 0), None, 1, 'Star Wars Episode IV - A New Hope', datetime.datetime(1977, 3, 26, 0, 0), None)\n",
      "(18, 'Forrest Gump', datetime.datetime(1994, 1, 1, 0, 0), None, 3, 'The Godfather', datetime.datetime(1972, 1, 1, 0, 0), None)\n",
      "(18, 'Forrest Gump', datetime.datetime(1994, 1, 1, 0, 0), None, 5, 'Schindlers List', datetime.datetime(1993, 1, 1, 0, 0), None)\n",
      "(18, 'Forrest Gump', datetime.datetime(1994, 1, 1, 0, 0), None, 6, 'Raging Bull', datetime.datetime(1980, 1, 1, 0, 0), None)\n",
      "(18, 'Forrest Gump', datetime.datetime(1994, 1, 1, 0, 0), None, 7, 'Casablanca', datetime.datetime(1942, 1, 1, 0, 0), None)\n",
      "(18, 'Forrest Gump', datetime.datetime(1994, 1, 1, 0, 0), None, 8, 'Citizen Kane', datetime.datetime(1941, 1, 1, 0, 0), None)\n",
      "(18, 'Forrest Gump', datetime.datetime(1994, 1, 1, 0, 0), None, 9, 'Gone with the Wind', datetime.datetime(1939, 1, 1, 0, 0), None)\n",
      "(18, 'Forrest Gump', datetime.datetime(1994, 1, 1, 0, 0), None, 10, 'The Wizard of Oz', datetime.datetime(1939, 1, 1, 0, 0), None)\n",
      "(18, 'Forrest Gump', datetime.datetime(1994, 1, 1, 0, 0), None, 11, 'One Flew Over the Cuckoos Nest', datetime.datetime(1975, 1, 1, 0, 0), None)\n",
      "(18, 'Forrest Gump', datetime.datetime(1994, 1, 1, 0, 0), None, 12, 'Lawrence of Arabia', datetime.datetime(1962, 1, 1, 0, 0), None)\n",
      "(18, 'Forrest Gump', datetime.datetime(1994, 1, 1, 0, 0), None, 13, 'Vertigo', datetime.datetime(1958, 1, 1, 0, 0), None)\n",
      "(18, 'Forrest Gump', datetime.datetime(1994, 1, 1, 0, 0), None, 14, 'Psycho', datetime.datetime(1960, 1, 1, 0, 0), None)\n",
      "(18, 'Forrest Gump', datetime.datetime(1994, 1, 1, 0, 0), None, 15, 'The Godfather: Part II', datetime.datetime(1974, 1, 1, 0, 0), None)\n",
      "(18, 'Forrest Gump', datetime.datetime(1994, 1, 1, 0, 0), None, 16, 'On the Waterfront', datetime.datetime(1954, 1, 1, 0, 0), None)\n",
      "(18, 'Forrest Gump', datetime.datetime(1994, 1, 1, 0, 0), None, 17, 'Sunset Boulevard', datetime.datetime(1950, 1, 1, 0, 0), None)\n",
      "(18, 'Forrest Gump', datetime.datetime(1994, 1, 1, 0, 0), None, 19, 'The Sound of Music', datetime.datetime(1965, 1, 1, 0, 0), None)\n",
      "(18, 'Forrest Gump', datetime.datetime(1994, 1, 1, 0, 0), None, 20, '12 Angry Men', datetime.datetime(1957, 1, 1, 0, 0), None)\n",
      "(18, 'Forrest Gump', datetime.datetime(1994, 1, 1, 0, 0), None, 21, 'West Side Story', datetime.datetime(1961, 1, 1, 0, 0), None)\n",
      "(12, 'Lawrence of Arabia', datetime.datetime(1962, 1, 1, 0, 0), None, 7, 'Casablanca', datetime.datetime(1942, 1, 1, 0, 0), None)\n",
      "(12, 'Lawrence of Arabia', datetime.datetime(1962, 1, 1, 0, 0), None, 8, 'Citizen Kane', datetime.datetime(1941, 1, 1, 0, 0), None)\n",
      "(12, 'Lawrence of Arabia', datetime.datetime(1962, 1, 1, 0, 0), None, 9, 'Gone with the Wind', datetime.datetime(1939, 1, 1, 0, 0), None)\n",
      "(12, 'Lawrence of Arabia', datetime.datetime(1962, 1, 1, 0, 0), None, 10, 'The Wizard of Oz', datetime.datetime(1939, 1, 1, 0, 0), None)\n",
      "(12, 'Lawrence of Arabia', datetime.datetime(1962, 1, 1, 0, 0), None, 13, 'Vertigo', datetime.datetime(1958, 1, 1, 0, 0), None)\n",
      "(12, 'Lawrence of Arabia', datetime.datetime(1962, 1, 1, 0, 0), None, 14, 'Psycho', datetime.datetime(1960, 1, 1, 0, 0), None)\n",
      "(12, 'Lawrence of Arabia', datetime.datetime(1962, 1, 1, 0, 0), None, 16, 'On the Waterfront', datetime.datetime(1954, 1, 1, 0, 0), None)\n",
      "(12, 'Lawrence of Arabia', datetime.datetime(1962, 1, 1, 0, 0), None, 17, 'Sunset Boulevard', datetime.datetime(1950, 1, 1, 0, 0), None)\n",
      "(12, 'Lawrence of Arabia', datetime.datetime(1962, 1, 1, 0, 0), None, 20, '12 Angry Men', datetime.datetime(1957, 1, 1, 0, 0), None)\n",
      "(12, 'Lawrence of Arabia', datetime.datetime(1962, 1, 1, 0, 0), None, 21, 'West Side Story', datetime.datetime(1961, 1, 1, 0, 0), None)\n",
      "(16, 'On the Waterfront', datetime.datetime(1954, 1, 1, 0, 0), None, 7, 'Casablanca', datetime.datetime(1942, 1, 1, 0, 0), None)\n",
      "(16, 'On the Waterfront', datetime.datetime(1954, 1, 1, 0, 0), None, 8, 'Citizen Kane', datetime.datetime(1941, 1, 1, 0, 0), None)\n",
      "(16, 'On the Waterfront', datetime.datetime(1954, 1, 1, 0, 0), None, 9, 'Gone with the Wind', datetime.datetime(1939, 1, 1, 0, 0), None)\n",
      "(16, 'On the Waterfront', datetime.datetime(1954, 1, 1, 0, 0), None, 10, 'The Wizard of Oz', datetime.datetime(1939, 1, 1, 0, 0), None)\n",
      "(16, 'On the Waterfront', datetime.datetime(1954, 1, 1, 0, 0), None, 17, 'Sunset Boulevard', datetime.datetime(1950, 1, 1, 0, 0), None)\n",
      "(11, 'One Flew Over the Cuckoos Nest', datetime.datetime(1975, 1, 1, 0, 0), None, 3, 'The Godfather', datetime.datetime(1972, 1, 1, 0, 0), None)\n",
      "(11, 'One Flew Over the Cuckoos Nest', datetime.datetime(1975, 1, 1, 0, 0), None, 7, 'Casablanca', datetime.datetime(1942, 1, 1, 0, 0), None)\n",
      "(11, 'One Flew Over the Cuckoos Nest', datetime.datetime(1975, 1, 1, 0, 0), None, 8, 'Citizen Kane', datetime.datetime(1941, 1, 1, 0, 0), None)\n",
      "(11, 'One Flew Over the Cuckoos Nest', datetime.datetime(1975, 1, 1, 0, 0), None, 9, 'Gone with the Wind', datetime.datetime(1939, 1, 1, 0, 0), None)\n",
      "(11, 'One Flew Over the Cuckoos Nest', datetime.datetime(1975, 1, 1, 0, 0), None, 10, 'The Wizard of Oz', datetime.datetime(1939, 1, 1, 0, 0), None)\n",
      "(11, 'One Flew Over the Cuckoos Nest', datetime.datetime(1975, 1, 1, 0, 0), None, 12, 'Lawrence of Arabia', datetime.datetime(1962, 1, 1, 0, 0), None)\n",
      "(11, 'One Flew Over the Cuckoos Nest', datetime.datetime(1975, 1, 1, 0, 0), None, 13, 'Vertigo', datetime.datetime(1958, 1, 1, 0, 0), None)\n",
      "(11, 'One Flew Over the Cuckoos Nest', datetime.datetime(1975, 1, 1, 0, 0), None, 14, 'Psycho', datetime.datetime(1960, 1, 1, 0, 0), None)\n",
      "(11, 'One Flew Over the Cuckoos Nest', datetime.datetime(1975, 1, 1, 0, 0), None, 15, 'The Godfather: Part II', datetime.datetime(1974, 1, 1, 0, 0), None)\n",
      "(11, 'One Flew Over the Cuckoos Nest', datetime.datetime(1975, 1, 1, 0, 0), None, 16, 'On the Waterfront', datetime.datetime(1954, 1, 1, 0, 0), None)\n",
      "(11, 'One Flew Over the Cuckoos Nest', datetime.datetime(1975, 1, 1, 0, 0), None, 17, 'Sunset Boulevard', datetime.datetime(1950, 1, 1, 0, 0), None)\n",
      "(11, 'One Flew Over the Cuckoos Nest', datetime.datetime(1975, 1, 1, 0, 0), None, 19, 'The Sound of Music', datetime.datetime(1965, 1, 1, 0, 0), None)\n",
      "(11, 'One Flew Over the Cuckoos Nest', datetime.datetime(1975, 1, 1, 0, 0), None, 20, '12 Angry Men', datetime.datetime(1957, 1, 1, 0, 0), None)\n",
      "(11, 'One Flew Over the Cuckoos Nest', datetime.datetime(1975, 1, 1, 0, 0), None, 21, 'West Side Story', datetime.datetime(1961, 1, 1, 0, 0), None)\n",
      "(14, 'Psycho', datetime.datetime(1960, 1, 1, 0, 0), None, 7, 'Casablanca', datetime.datetime(1942, 1, 1, 0, 0), None)\n",
      "(14, 'Psycho', datetime.datetime(1960, 1, 1, 0, 0), None, 8, 'Citizen Kane', datetime.datetime(1941, 1, 1, 0, 0), None)\n",
      "(14, 'Psycho', datetime.datetime(1960, 1, 1, 0, 0), None, 9, 'Gone with the Wind', datetime.datetime(1939, 1, 1, 0, 0), None)\n",
      "(14, 'Psycho', datetime.datetime(1960, 1, 1, 0, 0), None, 10, 'The Wizard of Oz', datetime.datetime(1939, 1, 1, 0, 0), None)\n",
      "(14, 'Psycho', datetime.datetime(1960, 1, 1, 0, 0), None, 13, 'Vertigo', datetime.datetime(1958, 1, 1, 0, 0), None)\n",
      "(14, 'Psycho', datetime.datetime(1960, 1, 1, 0, 0), None, 16, 'On the Waterfront', datetime.datetime(1954, 1, 1, 0, 0), None)\n",
      "(14, 'Psycho', datetime.datetime(1960, 1, 1, 0, 0), None, 17, 'Sunset Boulevard', datetime.datetime(1950, 1, 1, 0, 0), None)\n",
      "(14, 'Psycho', datetime.datetime(1960, 1, 1, 0, 0), None, 20, '12 Angry Men', datetime.datetime(1957, 1, 1, 0, 0), None)\n",
      "(6, 'Raging Bull', datetime.datetime(1980, 1, 1, 0, 0), None, 1, 'Star Wars Episode IV - A New Hope', datetime.datetime(1977, 3, 26, 0, 0), None)\n",
      "(6, 'Raging Bull', datetime.datetime(1980, 1, 1, 0, 0), None, 3, 'The Godfather', datetime.datetime(1972, 1, 1, 0, 0), None)\n",
      "(6, 'Raging Bull', datetime.datetime(1980, 1, 1, 0, 0), None, 7, 'Casablanca', datetime.datetime(1942, 1, 1, 0, 0), None)\n",
      "(6, 'Raging Bull', datetime.datetime(1980, 1, 1, 0, 0), None, 8, 'Citizen Kane', datetime.datetime(1941, 1, 1, 0, 0), None)\n",
      "(6, 'Raging Bull', datetime.datetime(1980, 1, 1, 0, 0), None, 9, 'Gone with the Wind', datetime.datetime(1939, 1, 1, 0, 0), None)\n",
      "(6, 'Raging Bull', datetime.datetime(1980, 1, 1, 0, 0), None, 10, 'The Wizard of Oz', datetime.datetime(1939, 1, 1, 0, 0), None)\n",
      "(6, 'Raging Bull', datetime.datetime(1980, 1, 1, 0, 0), None, 11, 'One Flew Over the Cuckoos Nest', datetime.datetime(1975, 1, 1, 0, 0), None)\n",
      "(6, 'Raging Bull', datetime.datetime(1980, 1, 1, 0, 0), None, 12, 'Lawrence of Arabia', datetime.datetime(1962, 1, 1, 0, 0), None)\n",
      "(6, 'Raging Bull', datetime.datetime(1980, 1, 1, 0, 0), None, 13, 'Vertigo', datetime.datetime(1958, 1, 1, 0, 0), None)\n",
      "(6, 'Raging Bull', datetime.datetime(1980, 1, 1, 0, 0), None, 14, 'Psycho', datetime.datetime(1960, 1, 1, 0, 0), None)\n",
      "(6, 'Raging Bull', datetime.datetime(1980, 1, 1, 0, 0), None, 15, 'The Godfather: Part II', datetime.datetime(1974, 1, 1, 0, 0), None)\n",
      "(6, 'Raging Bull', datetime.datetime(1980, 1, 1, 0, 0), None, 16, 'On the Waterfront', datetime.datetime(1954, 1, 1, 0, 0), None)\n",
      "(6, 'Raging Bull', datetime.datetime(1980, 1, 1, 0, 0), None, 17, 'Sunset Boulevard', datetime.datetime(1950, 1, 1, 0, 0), None)\n",
      "(6, 'Raging Bull', datetime.datetime(1980, 1, 1, 0, 0), None, 19, 'The Sound of Music', datetime.datetime(1965, 1, 1, 0, 0), None)\n",
      "(6, 'Raging Bull', datetime.datetime(1980, 1, 1, 0, 0), None, 20, '12 Angry Men', datetime.datetime(1957, 1, 1, 0, 0), None)\n",
      "(6, 'Raging Bull', datetime.datetime(1980, 1, 1, 0, 0), None, 21, 'West Side Story', datetime.datetime(1961, 1, 1, 0, 0), None)\n",
      "(5, 'Schindlers List', datetime.datetime(1993, 1, 1, 0, 0), None, 1, 'Star Wars Episode IV - A New Hope', datetime.datetime(1977, 3, 26, 0, 0), None)\n",
      "(5, 'Schindlers List', datetime.datetime(1993, 1, 1, 0, 0), None, 3, 'The Godfather', datetime.datetime(1972, 1, 1, 0, 0), None)\n",
      "(5, 'Schindlers List', datetime.datetime(1993, 1, 1, 0, 0), None, 6, 'Raging Bull', datetime.datetime(1980, 1, 1, 0, 0), None)\n",
      "(5, 'Schindlers List', datetime.datetime(1993, 1, 1, 0, 0), None, 7, 'Casablanca', datetime.datetime(1942, 1, 1, 0, 0), None)\n",
      "(5, 'Schindlers List', datetime.datetime(1993, 1, 1, 0, 0), None, 8, 'Citizen Kane', datetime.datetime(1941, 1, 1, 0, 0), None)\n",
      "(5, 'Schindlers List', datetime.datetime(1993, 1, 1, 0, 0), None, 9, 'Gone with the Wind', datetime.datetime(1939, 1, 1, 0, 0), None)\n",
      "(5, 'Schindlers List', datetime.datetime(1993, 1, 1, 0, 0), None, 10, 'The Wizard of Oz', datetime.datetime(1939, 1, 1, 0, 0), None)\n",
      "(5, 'Schindlers List', datetime.datetime(1993, 1, 1, 0, 0), None, 11, 'One Flew Over the Cuckoos Nest', datetime.datetime(1975, 1, 1, 0, 0), None)\n",
      "(5, 'Schindlers List', datetime.datetime(1993, 1, 1, 0, 0), None, 12, 'Lawrence of Arabia', datetime.datetime(1962, 1, 1, 0, 0), None)\n",
      "(5, 'Schindlers List', datetime.datetime(1993, 1, 1, 0, 0), None, 13, 'Vertigo', datetime.datetime(1958, 1, 1, 0, 0), None)\n",
      "(5, 'Schindlers List', datetime.datetime(1993, 1, 1, 0, 0), None, 14, 'Psycho', datetime.datetime(1960, 1, 1, 0, 0), None)\n",
      "(5, 'Schindlers List', datetime.datetime(1993, 1, 1, 0, 0), None, 15, 'The Godfather: Part II', datetime.datetime(1974, 1, 1, 0, 0), None)\n",
      "(5, 'Schindlers List', datetime.datetime(1993, 1, 1, 0, 0), None, 16, 'On the Waterfront', datetime.datetime(1954, 1, 1, 0, 0), None)\n",
      "(5, 'Schindlers List', datetime.datetime(1993, 1, 1, 0, 0), None, 17, 'Sunset Boulevard', datetime.datetime(1950, 1, 1, 0, 0), None)\n",
      "(5, 'Schindlers List', datetime.datetime(1993, 1, 1, 0, 0), None, 19, 'The Sound of Music', datetime.datetime(1965, 1, 1, 0, 0), None)\n",
      "(5, 'Schindlers List', datetime.datetime(1993, 1, 1, 0, 0), None, 20, '12 Angry Men', datetime.datetime(1957, 1, 1, 0, 0), None)\n",
      "(5, 'Schindlers List', datetime.datetime(1993, 1, 1, 0, 0), None, 21, 'West Side Story', datetime.datetime(1961, 1, 1, 0, 0), None)\n",
      "(1, 'Star Wars Episode IV - A New Hope', datetime.datetime(1977, 3, 26, 0, 0), None, 3, 'The Godfather', datetime.datetime(1972, 1, 1, 0, 0), None)\n",
      "(1, 'Star Wars Episode IV - A New Hope', datetime.datetime(1977, 3, 26, 0, 0), None, 7, 'Casablanca', datetime.datetime(1942, 1, 1, 0, 0), None)\n",
      "(1, 'Star Wars Episode IV - A New Hope', datetime.datetime(1977, 3, 26, 0, 0), None, 8, 'Citizen Kane', datetime.datetime(1941, 1, 1, 0, 0), None)\n",
      "(1, 'Star Wars Episode IV - A New Hope', datetime.datetime(1977, 3, 26, 0, 0), None, 9, 'Gone with the Wind', datetime.datetime(1939, 1, 1, 0, 0), None)\n",
      "(1, 'Star Wars Episode IV - A New Hope', datetime.datetime(1977, 3, 26, 0, 0), None, 10, 'The Wizard of Oz', datetime.datetime(1939, 1, 1, 0, 0), None)\n",
      "(1, 'Star Wars Episode IV - A New Hope', datetime.datetime(1977, 3, 26, 0, 0), None, 11, 'One Flew Over the Cuckoos Nest', datetime.datetime(1975, 1, 1, 0, 0), None)\n",
      "(1, 'Star Wars Episode IV - A New Hope', datetime.datetime(1977, 3, 26, 0, 0), None, 12, 'Lawrence of Arabia', datetime.datetime(1962, 1, 1, 0, 0), None)\n",
      "(1, 'Star Wars Episode IV - A New Hope', datetime.datetime(1977, 3, 26, 0, 0), None, 13, 'Vertigo', datetime.datetime(1958, 1, 1, 0, 0), None)\n",
      "(1, 'Star Wars Episode IV - A New Hope', datetime.datetime(1977, 3, 26, 0, 0), None, 14, 'Psycho', datetime.datetime(1960, 1, 1, 0, 0), None)\n",
      "(1, 'Star Wars Episode IV - A New Hope', datetime.datetime(1977, 3, 26, 0, 0), None, 15, 'The Godfather: Part II', datetime.datetime(1974, 1, 1, 0, 0), None)\n",
      "(1, 'Star Wars Episode IV - A New Hope', datetime.datetime(1977, 3, 26, 0, 0), None, 16, 'On the Waterfront', datetime.datetime(1954, 1, 1, 0, 0), None)\n",
      "(1, 'Star Wars Episode IV - A New Hope', datetime.datetime(1977, 3, 26, 0, 0), None, 17, 'Sunset Boulevard', datetime.datetime(1950, 1, 1, 0, 0), None)\n",
      "(1, 'Star Wars Episode IV - A New Hope', datetime.datetime(1977, 3, 26, 0, 0), None, 19, 'The Sound of Music', datetime.datetime(1965, 1, 1, 0, 0), None)\n",
      "(1, 'Star Wars Episode IV - A New Hope', datetime.datetime(1977, 3, 26, 0, 0), None, 20, '12 Angry Men', datetime.datetime(1957, 1, 1, 0, 0), None)\n",
      "(1, 'Star Wars Episode IV - A New Hope', datetime.datetime(1977, 3, 26, 0, 0), None, 21, 'West Side Story', datetime.datetime(1961, 1, 1, 0, 0), None)\n",
      "(17, 'Sunset Boulevard', datetime.datetime(1950, 1, 1, 0, 0), None, 7, 'Casablanca', datetime.datetime(1942, 1, 1, 0, 0), None)\n",
      "(17, 'Sunset Boulevard', datetime.datetime(1950, 1, 1, 0, 0), None, 8, 'Citizen Kane', datetime.datetime(1941, 1, 1, 0, 0), None)\n",
      "(17, 'Sunset Boulevard', datetime.datetime(1950, 1, 1, 0, 0), None, 9, 'Gone with the Wind', datetime.datetime(1939, 1, 1, 0, 0), None)\n",
      "(17, 'Sunset Boulevard', datetime.datetime(1950, 1, 1, 0, 0), None, 10, 'The Wizard of Oz', datetime.datetime(1939, 1, 1, 0, 0), None)\n",
      "(3, 'The Godfather', datetime.datetime(1972, 1, 1, 0, 0), None, 7, 'Casablanca', datetime.datetime(1942, 1, 1, 0, 0), None)\n",
      "(3, 'The Godfather', datetime.datetime(1972, 1, 1, 0, 0), None, 8, 'Citizen Kane', datetime.datetime(1941, 1, 1, 0, 0), None)\n",
      "(3, 'The Godfather', datetime.datetime(1972, 1, 1, 0, 0), None, 9, 'Gone with the Wind', datetime.datetime(1939, 1, 1, 0, 0), None)\n",
      "(3, 'The Godfather', datetime.datetime(1972, 1, 1, 0, 0), None, 10, 'The Wizard of Oz', datetime.datetime(1939, 1, 1, 0, 0), None)\n",
      "(3, 'The Godfather', datetime.datetime(1972, 1, 1, 0, 0), None, 12, 'Lawrence of Arabia', datetime.datetime(1962, 1, 1, 0, 0), None)\n",
      "(3, 'The Godfather', datetime.datetime(1972, 1, 1, 0, 0), None, 13, 'Vertigo', datetime.datetime(1958, 1, 1, 0, 0), None)\n",
      "(3, 'The Godfather', datetime.datetime(1972, 1, 1, 0, 0), None, 14, 'Psycho', datetime.datetime(1960, 1, 1, 0, 0), None)\n",
      "(3, 'The Godfather', datetime.datetime(1972, 1, 1, 0, 0), None, 16, 'On the Waterfront', datetime.datetime(1954, 1, 1, 0, 0), None)\n",
      "(3, 'The Godfather', datetime.datetime(1972, 1, 1, 0, 0), None, 17, 'Sunset Boulevard', datetime.datetime(1950, 1, 1, 0, 0), None)\n",
      "(3, 'The Godfather', datetime.datetime(1972, 1, 1, 0, 0), None, 19, 'The Sound of Music', datetime.datetime(1965, 1, 1, 0, 0), None)\n",
      "(3, 'The Godfather', datetime.datetime(1972, 1, 1, 0, 0), None, 20, '12 Angry Men', datetime.datetime(1957, 1, 1, 0, 0), None)\n",
      "(3, 'The Godfather', datetime.datetime(1972, 1, 1, 0, 0), None, 21, 'West Side Story', datetime.datetime(1961, 1, 1, 0, 0), None)\n",
      "(15, 'The Godfather: Part II', datetime.datetime(1974, 1, 1, 0, 0), None, 3, 'The Godfather', datetime.datetime(1972, 1, 1, 0, 0), None)\n",
      "(15, 'The Godfather: Part II', datetime.datetime(1974, 1, 1, 0, 0), None, 7, 'Casablanca', datetime.datetime(1942, 1, 1, 0, 0), None)\n",
      "(15, 'The Godfather: Part II', datetime.datetime(1974, 1, 1, 0, 0), None, 8, 'Citizen Kane', datetime.datetime(1941, 1, 1, 0, 0), None)\n",
      "(15, 'The Godfather: Part II', datetime.datetime(1974, 1, 1, 0, 0), None, 9, 'Gone with the Wind', datetime.datetime(1939, 1, 1, 0, 0), None)\n",
      "(15, 'The Godfather: Part II', datetime.datetime(1974, 1, 1, 0, 0), None, 10, 'The Wizard of Oz', datetime.datetime(1939, 1, 1, 0, 0), None)\n",
      "(15, 'The Godfather: Part II', datetime.datetime(1974, 1, 1, 0, 0), None, 12, 'Lawrence of Arabia', datetime.datetime(1962, 1, 1, 0, 0), None)\n",
      "(15, 'The Godfather: Part II', datetime.datetime(1974, 1, 1, 0, 0), None, 13, 'Vertigo', datetime.datetime(1958, 1, 1, 0, 0), None)\n",
      "(15, 'The Godfather: Part II', datetime.datetime(1974, 1, 1, 0, 0), None, 14, 'Psycho', datetime.datetime(1960, 1, 1, 0, 0), None)\n",
      "(15, 'The Godfather: Part II', datetime.datetime(1974, 1, 1, 0, 0), None, 16, 'On the Waterfront', datetime.datetime(1954, 1, 1, 0, 0), None)\n",
      "(15, 'The Godfather: Part II', datetime.datetime(1974, 1, 1, 0, 0), None, 17, 'Sunset Boulevard', datetime.datetime(1950, 1, 1, 0, 0), None)\n",
      "(15, 'The Godfather: Part II', datetime.datetime(1974, 1, 1, 0, 0), None, 19, 'The Sound of Music', datetime.datetime(1965, 1, 1, 0, 0), None)\n",
      "(15, 'The Godfather: Part II', datetime.datetime(1974, 1, 1, 0, 0), None, 20, '12 Angry Men', datetime.datetime(1957, 1, 1, 0, 0), None)\n",
      "(15, 'The Godfather: Part II', datetime.datetime(1974, 1, 1, 0, 0), None, 21, 'West Side Story', datetime.datetime(1961, 1, 1, 0, 0), None)\n",
      "(4, 'The Shawshank Redemption', datetime.datetime(1994, 1, 1, 0, 0), None, 1, 'Star Wars Episode IV - A New Hope', datetime.datetime(1977, 3, 26, 0, 0), None)\n",
      "(4, 'The Shawshank Redemption', datetime.datetime(1994, 1, 1, 0, 0), None, 3, 'The Godfather', datetime.datetime(1972, 1, 1, 0, 0), None)\n",
      "(4, 'The Shawshank Redemption', datetime.datetime(1994, 1, 1, 0, 0), None, 5, 'Schindlers List', datetime.datetime(1993, 1, 1, 0, 0), None)\n",
      "(4, 'The Shawshank Redemption', datetime.datetime(1994, 1, 1, 0, 0), None, 6, 'Raging Bull', datetime.datetime(1980, 1, 1, 0, 0), None)\n",
      "(4, 'The Shawshank Redemption', datetime.datetime(1994, 1, 1, 0, 0), None, 7, 'Casablanca', datetime.datetime(1942, 1, 1, 0, 0), None)\n",
      "(4, 'The Shawshank Redemption', datetime.datetime(1994, 1, 1, 0, 0), None, 8, 'Citizen Kane', datetime.datetime(1941, 1, 1, 0, 0), None)\n",
      "(4, 'The Shawshank Redemption', datetime.datetime(1994, 1, 1, 0, 0), None, 9, 'Gone with the Wind', datetime.datetime(1939, 1, 1, 0, 0), None)\n",
      "(4, 'The Shawshank Redemption', datetime.datetime(1994, 1, 1, 0, 0), None, 10, 'The Wizard of Oz', datetime.datetime(1939, 1, 1, 0, 0), None)\n",
      "(4, 'The Shawshank Redemption', datetime.datetime(1994, 1, 1, 0, 0), None, 11, 'One Flew Over the Cuckoos Nest', datetime.datetime(1975, 1, 1, 0, 0), None)\n",
      "(4, 'The Shawshank Redemption', datetime.datetime(1994, 1, 1, 0, 0), None, 12, 'Lawrence of Arabia', datetime.datetime(1962, 1, 1, 0, 0), None)\n",
      "(4, 'The Shawshank Redemption', datetime.datetime(1994, 1, 1, 0, 0), None, 13, 'Vertigo', datetime.datetime(1958, 1, 1, 0, 0), None)\n",
      "(4, 'The Shawshank Redemption', datetime.datetime(1994, 1, 1, 0, 0), None, 14, 'Psycho', datetime.datetime(1960, 1, 1, 0, 0), None)\n",
      "(4, 'The Shawshank Redemption', datetime.datetime(1994, 1, 1, 0, 0), None, 15, 'The Godfather: Part II', datetime.datetime(1974, 1, 1, 0, 0), None)\n",
      "(4, 'The Shawshank Redemption', datetime.datetime(1994, 1, 1, 0, 0), None, 16, 'On the Waterfront', datetime.datetime(1954, 1, 1, 0, 0), None)\n",
      "(4, 'The Shawshank Redemption', datetime.datetime(1994, 1, 1, 0, 0), None, 17, 'Sunset Boulevard', datetime.datetime(1950, 1, 1, 0, 0), None)\n",
      "(4, 'The Shawshank Redemption', datetime.datetime(1994, 1, 1, 0, 0), None, 19, 'The Sound of Music', datetime.datetime(1965, 1, 1, 0, 0), None)\n",
      "(4, 'The Shawshank Redemption', datetime.datetime(1994, 1, 1, 0, 0), None, 20, '12 Angry Men', datetime.datetime(1957, 1, 1, 0, 0), None)\n",
      "(4, 'The Shawshank Redemption', datetime.datetime(1994, 1, 1, 0, 0), None, 21, 'West Side Story', datetime.datetime(1961, 1, 1, 0, 0), None)\n",
      "(19, 'The Sound of Music', datetime.datetime(1965, 1, 1, 0, 0), None, 7, 'Casablanca', datetime.datetime(1942, 1, 1, 0, 0), None)\n",
      "(19, 'The Sound of Music', datetime.datetime(1965, 1, 1, 0, 0), None, 8, 'Citizen Kane', datetime.datetime(1941, 1, 1, 0, 0), None)\n",
      "(19, 'The Sound of Music', datetime.datetime(1965, 1, 1, 0, 0), None, 9, 'Gone with the Wind', datetime.datetime(1939, 1, 1, 0, 0), None)\n",
      "(19, 'The Sound of Music', datetime.datetime(1965, 1, 1, 0, 0), None, 10, 'The Wizard of Oz', datetime.datetime(1939, 1, 1, 0, 0), None)\n",
      "(19, 'The Sound of Music', datetime.datetime(1965, 1, 1, 0, 0), None, 12, 'Lawrence of Arabia', datetime.datetime(1962, 1, 1, 0, 0), None)\n",
      "(19, 'The Sound of Music', datetime.datetime(1965, 1, 1, 0, 0), None, 13, 'Vertigo', datetime.datetime(1958, 1, 1, 0, 0), None)\n",
      "(19, 'The Sound of Music', datetime.datetime(1965, 1, 1, 0, 0), None, 14, 'Psycho', datetime.datetime(1960, 1, 1, 0, 0), None)\n",
      "(19, 'The Sound of Music', datetime.datetime(1965, 1, 1, 0, 0), None, 16, 'On the Waterfront', datetime.datetime(1954, 1, 1, 0, 0), None)\n",
      "(19, 'The Sound of Music', datetime.datetime(1965, 1, 1, 0, 0), None, 17, 'Sunset Boulevard', datetime.datetime(1950, 1, 1, 0, 0), None)\n",
      "(19, 'The Sound of Music', datetime.datetime(1965, 1, 1, 0, 0), None, 20, '12 Angry Men', datetime.datetime(1957, 1, 1, 0, 0), None)\n",
      "(19, 'The Sound of Music', datetime.datetime(1965, 1, 1, 0, 0), None, 21, 'West Side Story', datetime.datetime(1961, 1, 1, 0, 0), None)\n",
      "(2, 'The Thing', datetime.datetime(2016, 10, 27, 21, 7, 19, 393845), None, 1, 'Star Wars Episode IV - A New Hope', datetime.datetime(1977, 3, 26, 0, 0), None)\n",
      "(2, 'The Thing', datetime.datetime(2016, 10, 27, 21, 7, 19, 393845), None, 3, 'The Godfather', datetime.datetime(1972, 1, 1, 0, 0), None)\n",
      "(2, 'The Thing', datetime.datetime(2016, 10, 27, 21, 7, 19, 393845), None, 4, 'The Shawshank Redemption', datetime.datetime(1994, 1, 1, 0, 0), None)\n",
      "(2, 'The Thing', datetime.datetime(2016, 10, 27, 21, 7, 19, 393845), None, 5, 'Schindlers List', datetime.datetime(1993, 1, 1, 0, 0), None)\n",
      "(2, 'The Thing', datetime.datetime(2016, 10, 27, 21, 7, 19, 393845), None, 6, 'Raging Bull', datetime.datetime(1980, 1, 1, 0, 0), None)\n",
      "(2, 'The Thing', datetime.datetime(2016, 10, 27, 21, 7, 19, 393845), None, 7, 'Casablanca', datetime.datetime(1942, 1, 1, 0, 0), None)\n",
      "(2, 'The Thing', datetime.datetime(2016, 10, 27, 21, 7, 19, 393845), None, 8, 'Citizen Kane', datetime.datetime(1941, 1, 1, 0, 0), None)\n",
      "(2, 'The Thing', datetime.datetime(2016, 10, 27, 21, 7, 19, 393845), None, 9, 'Gone with the Wind', datetime.datetime(1939, 1, 1, 0, 0), None)\n",
      "(2, 'The Thing', datetime.datetime(2016, 10, 27, 21, 7, 19, 393845), None, 10, 'The Wizard of Oz', datetime.datetime(1939, 1, 1, 0, 0), None)\n",
      "(2, 'The Thing', datetime.datetime(2016, 10, 27, 21, 7, 19, 393845), None, 11, 'One Flew Over the Cuckoos Nest', datetime.datetime(1975, 1, 1, 0, 0), None)\n",
      "(2, 'The Thing', datetime.datetime(2016, 10, 27, 21, 7, 19, 393845), None, 12, 'Lawrence of Arabia', datetime.datetime(1962, 1, 1, 0, 0), None)\n",
      "(2, 'The Thing', datetime.datetime(2016, 10, 27, 21, 7, 19, 393845), None, 13, 'Vertigo', datetime.datetime(1958, 1, 1, 0, 0), None)\n",
      "(2, 'The Thing', datetime.datetime(2016, 10, 27, 21, 7, 19, 393845), None, 14, 'Psycho', datetime.datetime(1960, 1, 1, 0, 0), None)\n",
      "(2, 'The Thing', datetime.datetime(2016, 10, 27, 21, 7, 19, 393845), None, 15, 'The Godfather: Part II', datetime.datetime(1974, 1, 1, 0, 0), None)\n",
      "(2, 'The Thing', datetime.datetime(2016, 10, 27, 21, 7, 19, 393845), None, 16, 'On the Waterfront', datetime.datetime(1954, 1, 1, 0, 0), None)\n",
      "(2, 'The Thing', datetime.datetime(2016, 10, 27, 21, 7, 19, 393845), None, 17, 'Sunset Boulevard', datetime.datetime(1950, 1, 1, 0, 0), None)\n",
      "(2, 'The Thing', datetime.datetime(2016, 10, 27, 21, 7, 19, 393845), None, 18, 'Forrest Gump', datetime.datetime(1994, 1, 1, 0, 0), None)\n",
      "(2, 'The Thing', datetime.datetime(2016, 10, 27, 21, 7, 19, 393845), None, 19, 'The Sound of Music', datetime.datetime(1965, 1, 1, 0, 0), None)\n",
      "(2, 'The Thing', datetime.datetime(2016, 10, 27, 21, 7, 19, 393845), None, 20, '12 Angry Men', datetime.datetime(1957, 1, 1, 0, 0), None)\n",
      "(2, 'The Thing', datetime.datetime(2016, 10, 27, 21, 7, 19, 393845), None, 21, 'West Side Story', datetime.datetime(1961, 1, 1, 0, 0), None)\n",
      "(13, 'Vertigo', datetime.datetime(1958, 1, 1, 0, 0), None, 7, 'Casablanca', datetime.datetime(1942, 1, 1, 0, 0), None)\n",
      "(13, 'Vertigo', datetime.datetime(1958, 1, 1, 0, 0), None, 8, 'Citizen Kane', datetime.datetime(1941, 1, 1, 0, 0), None)\n",
      "(13, 'Vertigo', datetime.datetime(1958, 1, 1, 0, 0), None, 9, 'Gone with the Wind', datetime.datetime(1939, 1, 1, 0, 0), None)\n",
      "(13, 'Vertigo', datetime.datetime(1958, 1, 1, 0, 0), None, 10, 'The Wizard of Oz', datetime.datetime(1939, 1, 1, 0, 0), None)\n",
      "(13, 'Vertigo', datetime.datetime(1958, 1, 1, 0, 0), None, 16, 'On the Waterfront', datetime.datetime(1954, 1, 1, 0, 0), None)\n",
      "(13, 'Vertigo', datetime.datetime(1958, 1, 1, 0, 0), None, 17, 'Sunset Boulevard', datetime.datetime(1950, 1, 1, 0, 0), None)\n",
      "(13, 'Vertigo', datetime.datetime(1958, 1, 1, 0, 0), None, 20, '12 Angry Men', datetime.datetime(1957, 1, 1, 0, 0), None)\n",
      "(21, 'West Side Story', datetime.datetime(1961, 1, 1, 0, 0), None, 7, 'Casablanca', datetime.datetime(1942, 1, 1, 0, 0), None)\n",
      "(21, 'West Side Story', datetime.datetime(1961, 1, 1, 0, 0), None, 8, 'Citizen Kane', datetime.datetime(1941, 1, 1, 0, 0), None)\n",
      "(21, 'West Side Story', datetime.datetime(1961, 1, 1, 0, 0), None, 9, 'Gone with the Wind', datetime.datetime(1939, 1, 1, 0, 0), None)\n",
      "(21, 'West Side Story', datetime.datetime(1961, 1, 1, 0, 0), None, 10, 'The Wizard of Oz', datetime.datetime(1939, 1, 1, 0, 0), None)\n",
      "(21, 'West Side Story', datetime.datetime(1961, 1, 1, 0, 0), None, 13, 'Vertigo', datetime.datetime(1958, 1, 1, 0, 0), None)\n",
      "(21, 'West Side Story', datetime.datetime(1961, 1, 1, 0, 0), None, 14, 'Psycho', datetime.datetime(1960, 1, 1, 0, 0), None)\n",
      "(21, 'West Side Story', datetime.datetime(1961, 1, 1, 0, 0), None, 16, 'On the Waterfront', datetime.datetime(1954, 1, 1, 0, 0), None)\n",
      "(21, 'West Side Story', datetime.datetime(1961, 1, 1, 0, 0), None, 17, 'Sunset Boulevard', datetime.datetime(1950, 1, 1, 0, 0), None)\n",
      "(21, 'West Side Story', datetime.datetime(1961, 1, 1, 0, 0), None, 20, '12 Angry Men', datetime.datetime(1957, 1, 1, 0, 0), None)\n"
     ]
    }
   ],
   "source": [
    "film_a, film_b = films.alias(), films.alias()\n",
    "query = select([\n",
    "    film_a, film_b\n",
    "]).where(\n",
    "    film_a.c.date_produced > film_b.c.date_produced\n",
    ").order_by(film_a.c.title)  # using \"name\" here would be ambiguous\n",
    "\n",
    "printq(query)\n",
    "rows = engine.execute(query).fetchall()\n",
    "for r in rows:\n",
    "    pprint(r)"
   ]
  },
  {
   "cell_type": "markdown",
   "metadata": {},
   "source": [
    "## Aggregates (grouping)\n",
    "Once again very much like SQL. Here we're going to use a SQLite specific function ``group_concat`` to do string aggregation.\n",
    "``sqlalchemy.func`` allows us to use any database function."
   ]
  },
  {
   "cell_type": "code",
   "execution_count": 22,
   "metadata": {
    "collapsed": false
   },
   "outputs": [
    {
     "name": "stdout",
     "output_type": "stream",
     "text": [
      "SELECT genre.name, group_concat(films.title, :group_concat_2) AS group_concat_1 \n",
      "FROM genre JOIN genre_to_films ON genre.id = genre_to_films.genre_id JOIN films ON films.id = genre_to_films.film_id GROUP BY films.title\n",
      "\n",
      "('Drama', '12 Angry Men, 12 Angry Men')\n",
      "('War', 'Casablanca, Casablanca, Casablanca')\n",
      "('Mystery', 'Citizen Kane, Citizen Kane')\n",
      "('Drama', 'Forrest Gump, Forrest Gump')\n",
      "('Romance', 'Gone with the Wind, Gone with the Wind, Gone with the Wind')\n",
      "('Drama', 'Lawrence of Arabia, Lawrence of Arabia, Lawrence of Arabia')\n",
      "('Thriller', 'On the Waterfront, On the Waterfront, On the Waterfront')\n",
      "('Drama', 'One Flew Over the Cuckoos Nest')\n",
      "('Thriller', 'Psycho, Psycho, Psycho')\n",
      "('Sport', 'Raging Bull, Raging Bull, Raging Bull')\n",
      "('History', 'Schindlers List, Schindlers List, Schindlers List')\n",
      "('Film-Noir', 'Sunset Boulevard, Sunset Boulevard')\n",
      "('Drama', 'The Godfather, The Godfather')\n",
      "('Drama', 'The Godfather: Part II, The Godfather: Part II')\n",
      "('Drama', 'The Shawshank Redemption, The Shawshank Redemption')\n",
      "('Family', 'The Sound of Music, The Sound of Music, The Sound of Music')\n",
      "('Action', 'The Thing')\n",
      "('Fantasy', 'The Wizard of Oz, The Wizard of Oz, The Wizard of Oz')\n",
      "('Thriller', 'Vertigo, Vertigo, Vertigo')\n",
      "('Musical', 'West Side Story, West Side Story, West Side Story')\n"
     ]
    }
   ],
   "source": [
    "from sqlalchemy import func\n",
    "query = select([\n",
    "    genres.c.name,\n",
    "    func.group_concat(films.c.title, ', ')\n",
    "]).select_from(\n",
    "    genres.join(genre_to_films, genres.c.id==genre_to_films.c.genre_id\n",
    "    ).join(films, films.c.id==genre_to_films.c.film_id)\n",
    ").group_by(films.c.title)\n",
    "printq(query)\n",
    "rows = engine.execute(query).fetchall()\n",
    "for r in rows:\n",
    "    pprint(r)"
   ]
  },
  {
   "cell_type": "markdown",
   "metadata": {},
   "source": [
    "## Raw SQL\n",
    "Sometimes you just have to write your own."
   ]
  },
  {
   "cell_type": "code",
   "execution_count": 23,
   "metadata": {
    "collapsed": false
   },
   "outputs": [
    {
     "name": "stdout",
     "output_type": "stream",
     "text": [
      "SELECT genre.name, group_concat(films.title, \"|SEP|\") AS MyCol \n",
      "FROM genre JOIN genre_to_films ON genre.id = genre_to_films.genre_id JOIN films ON films.id = genre_to_films.film_id GROUP BY films.title\n",
      "\n",
      "('Drama', '12 Angry Men|SEP|12 Angry Men')\n",
      "('War', 'Casablanca|SEP|Casablanca|SEP|Casablanca')\n",
      "('Mystery', 'Citizen Kane|SEP|Citizen Kane')\n",
      "('Drama', 'Forrest Gump|SEP|Forrest Gump')\n",
      "('Romance', 'Gone with the Wind|SEP|Gone with the Wind|SEP|Gone with the Wind')\n",
      "('Drama', 'Lawrence of Arabia|SEP|Lawrence of Arabia|SEP|Lawrence of Arabia')\n",
      "('Thriller', 'On the Waterfront|SEP|On the Waterfront|SEP|On the Waterfront')\n",
      "('Drama', 'One Flew Over the Cuckoos Nest')\n",
      "('Thriller', 'Psycho|SEP|Psycho|SEP|Psycho')\n",
      "('Sport', 'Raging Bull|SEP|Raging Bull|SEP|Raging Bull')\n",
      "('History', 'Schindlers List|SEP|Schindlers List|SEP|Schindlers List')\n",
      "('Film-Noir', 'Sunset Boulevard|SEP|Sunset Boulevard')\n",
      "('Drama', 'The Godfather|SEP|The Godfather')\n",
      "('Drama', 'The Godfather: Part II|SEP|The Godfather: Part II')\n",
      "('Drama', 'The Shawshank Redemption|SEP|The Shawshank Redemption')\n",
      "('Family', 'The Sound of Music|SEP|The Sound of Music|SEP|The Sound of Music')\n",
      "('Action', 'The Thing')\n",
      "('Fantasy', 'The Wizard of Oz|SEP|The Wizard of Oz|SEP|The Wizard of Oz')\n",
      "('Thriller', 'Vertigo|SEP|Vertigo|SEP|Vertigo')\n",
      "('Musical', 'West Side Story|SEP|West Side Story|SEP|West Side Story')\n"
     ]
    }
   ],
   "source": [
    "from sqlalchemy import text\n",
    "query = select([\n",
    "    genres.c.name,\n",
    "    text('group_concat(films.title, \"|SEP|\") AS MyCol')\n",
    "]).select_from(\n",
    "    genres.join(genre_to_films, genres.c.id==genre_to_films.c.genre_id\n",
    "    ).join(films, films.c.id==genre_to_films.c.film_id)\n",
    ").group_by(films.c.title)\n",
    "printq(query)\n",
    "rows = engine.execute(query).fetchall()\n",
    "for r in rows:\n",
    "    pprint(r)"
   ]
  },
  {
   "cell_type": "markdown",
   "metadata": {},
   "source": [
    "You can also embed it in any of the other clauses"
   ]
  },
  {
   "cell_type": "code",
   "execution_count": 24,
   "metadata": {
    "collapsed": false
   },
   "outputs": [
    {
     "name": "stdout",
     "output_type": "stream",
     "text": [
      "SELECT genre.name, group_concat(films.title, \"|SEP|\") AS MyCol \n",
      "FROM genre JOIN genre_to_films ON genre.id = genre_to_films.genre_id JOIN films ON films.id = genre_to_films.film_id \n",
      "WHERE films.title LIKE \"%W%\" GROUP BY films.title\n",
      "\n",
      "('Romance', 'Gone with the Wind|SEP|Gone with the Wind|SEP|Gone with the Wind')\n",
      "('Drama', 'Lawrence of Arabia|SEP|Lawrence of Arabia|SEP|Lawrence of Arabia')\n",
      "('Thriller', 'On the Waterfront|SEP|On the Waterfront|SEP|On the Waterfront')\n",
      "('Drama', 'One Flew Over the Cuckoos Nest')\n",
      "('Drama', 'The Shawshank Redemption|SEP|The Shawshank Redemption')\n",
      "('Fantasy', 'The Wizard of Oz|SEP|The Wizard of Oz|SEP|The Wizard of Oz')\n",
      "('Musical', 'West Side Story|SEP|West Side Story|SEP|West Side Story')\n"
     ]
    }
   ],
   "source": [
    "from sqlalchemy import text\n",
    "query = select([\n",
    "    genres.c.name,\n",
    "    text('group_concat(films.title, \"|SEP|\") AS MyCol')\n",
    "]).select_from(\n",
    "    genres.join(genre_to_films, genres.c.id==genre_to_films.c.genre_id\n",
    "    ).join(films, films.c.id==genre_to_films.c.film_id)\n",
    ").where(\n",
    "    text('films.title LIKE \"%W%\"')\n",
    ").group_by(films.c.title)\n",
    "printq(query)\n",
    "rows = engine.execute(query).fetchall()\n",
    "for r in rows:\n",
    "    pprint(r)"
   ]
  },
  {
   "cell_type": "markdown",
   "metadata": {},
   "source": [
    "### Sub-queries\n",
    "Sometimes you need to compose your query using multiple building blocks. Subqueries allow you to isolate a portion of your selectable.\n",
    "\n",
    "What have I used this for?\n",
    "* more performant queries (incredebly subject-dependent)\n",
    "* composing results via ``UNION`` / ``UNION ALL``\n",
    "* filtering against a complex domain -> reducing complexity \n",
    "\n",
    "But be warned! It will have an effect on the Query Plan of your operation."
   ]
  },
  {
   "cell_type": "code",
   "execution_count": 25,
   "metadata": {
    "collapsed": false
   },
   "outputs": [
    {
     "name": "stdout",
     "output_type": "stream",
     "text": [
      "SELECT films.title, my_subq.genre_count \n",
      "FROM films LEFT OUTER JOIN (SELECT genre_to_films.film_id AS film_id, count(genre.id) AS genre_count \n",
      "FROM genre_to_films JOIN genre ON genre.id = genre_to_films.genre_id) AS my_subq ON films.id = my_subq.film_id\n",
      "\n",
      "('Star Wars Episode IV - A New Hope', None)\n",
      "('The Thing', None)\n",
      "('The Godfather', None)\n",
      "('The Shawshank Redemption', None)\n",
      "('Schindlers List', None)\n",
      "('Raging Bull', None)\n",
      "('Casablanca', None)\n",
      "('Citizen Kane', None)\n",
      "('Gone with the Wind', None)\n",
      "('The Wizard of Oz', None)\n",
      "('One Flew Over the Cuckoos Nest', None)\n",
      "('Lawrence of Arabia', None)\n",
      "('Vertigo', None)\n",
      "('Psycho', None)\n",
      "('The Godfather: Part II', None)\n",
      "('On the Waterfront', None)\n",
      "('Sunset Boulevard', None)\n",
      "('Forrest Gump', None)\n",
      "('The Sound of Music', None)\n",
      "('12 Angry Men', None)\n",
      "('West Side Story', 49)\n"
     ]
    }
   ],
   "source": [
    "from sqlalchemy import func, subquery\n",
    "\n",
    "genre_subq = select([\n",
    "        genre_to_films.c.film_id, \n",
    "        func.count(genres.c.id).label('genre_count')\n",
    "]).select_from(\n",
    "    genre_to_films.join(\n",
    "    genres, genres.c.id==genre_to_films.c.genre_id\n",
    ")).alias('my_subq')\n",
    "\n",
    "\n",
    "query = select([\n",
    "    films.c.title,\n",
    "    genre_subq.c.genre_count\n",
    "]).select_from(\n",
    "    films.outerjoin(\n",
    "        genre_subq, films.c.id==genre_subq.c.film_id\n",
    "    )\n",
    ")\n",
    "\n",
    "printq(query)\n",
    "rows = engine.execute(query).fetchall()\n",
    "for r in rows:\n",
    "    pprint(r)"
   ]
  },
  {
   "cell_type": "markdown",
   "metadata": {},
   "source": [
    "### CTE's\n",
    "\n",
    "Common table expressions (a much neater way of composing queries)"
   ]
  },
  {
   "cell_type": "code",
   "execution_count": 26,
   "metadata": {
    "collapsed": false
   },
   "outputs": [
    {
     "name": "stdout",
     "output_type": "stream",
     "text": [
      "WITH my_subq AS \n",
      "(SELECT genre_to_films.film_id AS film_id, count(genre.id) AS genre_count \n",
      "FROM genre_to_films JOIN genre ON genre.id = genre_to_films.genre_id)\n",
      " SELECT films.title, my_subq.genre_count \n",
      "FROM films LEFT OUTER JOIN my_subq ON films.id = my_subq.film_id\n",
      "\n",
      "('Star Wars Episode IV - A New Hope', None)\n",
      "('The Thing', None)\n",
      "('The Godfather', None)\n",
      "('The Shawshank Redemption', None)\n",
      "('Schindlers List', None)\n",
      "('Raging Bull', None)\n",
      "('Casablanca', None)\n",
      "('Citizen Kane', None)\n",
      "('Gone with the Wind', None)\n",
      "('The Wizard of Oz', None)\n",
      "('One Flew Over the Cuckoos Nest', None)\n",
      "('Lawrence of Arabia', None)\n",
      "('Vertigo', None)\n",
      "('Psycho', None)\n",
      "('The Godfather: Part II', None)\n",
      "('On the Waterfront', None)\n",
      "('Sunset Boulevard', None)\n",
      "('Forrest Gump', None)\n",
      "('The Sound of Music', None)\n",
      "('12 Angry Men', None)\n",
      "('West Side Story', 49)\n"
     ]
    }
   ],
   "source": [
    "from sqlalchemy import func, subquery\n",
    "\n",
    "genre_subq = select([\n",
    "        genre_to_films.c.film_id, \n",
    "        func.count(genres.c.id).label('genre_count')\n",
    "]).select_from(\n",
    "    genre_to_films.join(\n",
    "    genres, genres.c.id==genre_to_films.c.genre_id\n",
    ")).cte('my_subq')\n",
    "\n",
    "\n",
    "query = select([\n",
    "    films.c.title,\n",
    "    genre_subq.c.genre_count\n",
    "]).select_from(\n",
    "    films.outerjoin(\n",
    "        genre_subq, films.c.id==genre_subq.c.film_id\n",
    "    )\n",
    ")\n",
    "\n",
    "printq(query)\n",
    "rows = engine.execute(query).fetchall()\n",
    "for r in rows:\n",
    "    pprint(r)"
   ]
  },
  {
   "cell_type": "markdown",
   "metadata": {},
   "source": [
    "# Exercise 1: Binary trees\n",
    "\n",
    "A binary search tree is a rooted binary tree, whose internal nodes each store a key (and optionally, an associated value) and each have two distinguished sub-trees, commonly denoted left and right. The tree additionally satisfies the binary search tree property, which states that the key in each node must be greater than all keys stored in the left sub-tree, and less than all keys in the right sub-tree.\n",
    "\n",
    "https://en.wikipedia.org/wiki/Binary_search_tree\n",
    "\n",
    "\n",
    "Let's try and model the following tree\n",
    "```\n",
    " python\n",
    " pythonesque\n",
    " pythoness\n",
    " pythonic\n",
    " pythons\n",
    "\n",
    " pytho -> nes -> que\n",
    "              -> s\n",
    "       -> n   -> ic\n",
    "              -> s \n",
    "```\n",
    "\n",
    "Tasks\n",
    "-----\n",
    "\n",
    "1. Create a mapping for our Domain Model\n",
    "2. Insert the test data\n",
    "3. Query and print out the entire tree\n",
    "4. Implement a search query"
   ]
  },
  {
   "cell_type": "code",
   "execution_count": 27,
   "metadata": {
    "collapsed": false
   },
   "outputs": [],
   "source": [
    "bnode = Table('node', metadata,\n",
    "    Column('id', Integer, primary_key=True),\n",
    "    Column('value', Unicode, nullable=False),\n",
    "    Column('left_id', Integer, ForeignKey('node.id'), nullable=True),\n",
    "    Column('right_id', Integer, ForeignKey('node.id'), nullable=True),    \n",
    "    extend_existing=True\n",
    ")\n",
    "\n",
    "# I'm going to cheat and save a lot of work here\n",
    "from sqlalchemy.ext.declarative import declarative_base\n",
    "from sqlalchemy.orm import relationship\n",
    "Base = declarative_base(metadata=metadata)\n",
    "from sqlalchemy.orm import sessionmaker\n",
    "# create a configured \"Session\" class\n",
    "Session = sessionmaker(bind=engine)\n",
    "# create a Session\n",
    "session = Session()\n",
    "\n",
    "class BNode(Base):\n",
    "    \"\"\" Node in a binary tree \"\"\"\n",
    "    __table__ = bnode\n",
    "    \n",
    "    left = relationship('BNode', remote_side=[bnode.c.id], foreign_keys=[bnode.c.left_id])\n",
    "    \n",
    "    right = relationship('BNode', remote_side=[bnode.c.id], foreign_keys=[bnode.c.right_id])\n",
    "    \n",
    "\n",
    "Base.metadata.create_all(engine)    \n",
    "btree_session = Session()\n"
   ]
  },
  {
   "cell_type": "code",
   "execution_count": 28,
   "metadata": {
    "collapsed": false
   },
   "outputs": [],
   "source": [
    "# Inserting some test data\n",
    "# python\n",
    "# pythonesque\n",
    "# pythoness\n",
    "# pythonic\n",
    "# pythons\n",
    "#\n",
    "# pytho -> nes -> que\n",
    "#              -> s\n",
    "#       -> n -> ic\n",
    "#            -> s \n",
    "\n",
    "root_node = BNode(value='pytho')\n",
    "# 1st level\n",
    "root_node.left = BNode(value='n')\n",
    "root_node.right = BNode(value='nes')\n",
    "# 2nd level \n",
    "root_node.left.left = BNode(value='s')\n",
    "root_node.left.right = BNode(value='ic')\n",
    "root_node.right.left = BNode(value='s')\n",
    "root_node.right.right = BNode(value='que')"
   ]
  },
  {
   "cell_type": "code",
   "execution_count": 29,
   "metadata": {
    "collapsed": false
   },
   "outputs": [
    {
     "name": "stdout",
     "output_type": "stream",
     "text": [
      "[(1, None, None, 's'),\n",
      " (2, None, None, 'ic'),\n",
      " (3, None, None, 's'),\n",
      " (4, None, None, 'que'),\n",
      " (5, 1, 2, 'n'),\n",
      " (6, 3, 4, 'nes'),\n",
      " (7, 5, 6, 'pytho')]\n"
     ]
    }
   ],
   "source": [
    "btree_session.add(root_node)\n",
    "btree_session.commit()\n",
    "\n",
    "pprint(session.query(BNode.id, BNode.left_id, BNode.right_id, BNode.value).all())"
   ]
  },
  {
   "cell_type": "code",
   "execution_count": 30,
   "metadata": {
    "collapsed": false
   },
   "outputs": [
    {
     "name": "stdout",
     "output_type": "stream",
     "text": [
      " pytho  -> \n",
      "\t n  -> \n",
      "\t\t s \n",
      "\t\t ic \n",
      "\t nes  -> \n",
      "\t\t s \n",
      "\t\t que \n"
     ]
    }
   ],
   "source": [
    "def print_tree_node(level, node):\n",
    "    child_nodes = node.left and node.right\n",
    "    print(\"\\t\"*level, node.value, \" -> \" if child_nodes else \"\")\n",
    "    if node.left:\n",
    "        print_tree_node(level+1, node.left)\n",
    "    if node.right:\n",
    "        print_tree_node(level+1, node.right)\n",
    "\n",
    "print_tree_node(0, root_node)"
   ]
  },
  {
   "cell_type": "markdown",
   "metadata": {},
   "source": [
    "Lets make a recursive query to print out the value of each full value."
   ]
  },
  {
   "cell_type": "code",
   "execution_count": 31,
   "metadata": {
    "collapsed": false
   },
   "outputs": [],
   "source": [
    "from sqlalchemy import and_, or_, literal, case\n",
    "\n",
    "filter_node_q = session.query(\n",
    "    BNode.id,\n",
    "    BNode.left_id,\n",
    "    BNode.right_id,\n",
    "    BNode.value,\n",
    "    literal(None).label('left_match')\n",
    ").filter(\n",
    "    BNode.value.ilike('py%')  # We will find all nodes (including this) down/up the tree\n",
    ").cte(recursive=True)\n",
    "\n",
    "\n",
    "filter_node_q_alias = filter_node_q.alias()"
   ]
  },
  {
   "cell_type": "code",
   "execution_count": 32,
   "metadata": {
    "collapsed": false
   },
   "outputs": [
    {
     "name": "stdout",
     "output_type": "stream",
     "text": [
      "[(7, 5, 6, 'pytho', None),\n",
      " (5, 1, 2, 'n', 1),\n",
      " (6, 3, 4, 'nes', 0),\n",
      " (1, None, None, 's', 1),\n",
      " (2, None, None, 'ic', 0),\n",
      " (3, None, None, 's', 1),\n",
      " (4, None, None, 'que', 0)]\n",
      "[(4, 'pythonnessicsque')]\n"
     ]
    }
   ],
   "source": [
    "from sqlalchemy.orm import aliased\n",
    "\n",
    "bnode_alias = aliased(BNode)\n",
    "\n",
    "query_down = filter_node_q.union_all(\n",
    "    select([\n",
    "        bnode_alias.id.label('child_id'),\n",
    "        bnode_alias.left_id,\n",
    "        bnode_alias.right_id,\n",
    "        bnode_alias.value,\n",
    "        case([\n",
    "            (bnode_alias.id==filter_node_q_alias.c.left_id, True)\n",
    "        ], else_=False).label('left_match')\n",
    "    ]).where(\n",
    "        # Traverse DOWN the tree\n",
    "        or_(\n",
    "            bnode_alias.id==filter_node_q_alias.c.left_id,\n",
    "            bnode_alias.id==filter_node_q_alias.c.right_id,\n",
    "        )\n",
    "        \n",
    "    )\n",
    ")\n",
    "\n",
    "pprint(session.query(query_down).all())\n",
    "pprint(session.query(\n",
    "    query_down.c.id, \n",
    "    func.group_concat(query_down.c.value, '')\n",
    "        \n",
    ").all())\n",
    "    "
   ]
  },
  {
   "cell_type": "markdown",
   "metadata": {},
   "source": [
    "## Mapping your domain \n",
    "\n",
    "SQLAlchemy has 2 core parts\n",
    "\n",
    "* Expressions API\n",
    "* ORM\n",
    "\n",
    "Expression API is the lowest level, gives us the base to stand on.\n",
    "\n",
    "Gives us ``Table`` and queries \n",
    "\n",
    "ORM allows us to work with Classes/Objects in a much neater way.\n",
    "\n",
    "Provides the ``Mapper`` and ``Mapping``\n",
    "\n",
    "\n",
    "(Mappers are there to help us and generally keep out of the way. But it's good to know they exist/what they are.)\n",
    "\n"
   ]
  },
  {
   "cell_type": "markdown",
   "metadata": {},
   "source": [
    "### Our film/genre mapping (Take 2)"
   ]
  },
  {
   "cell_type": "code",
   "execution_count": 33,
   "metadata": {
    "collapsed": false
   },
   "outputs": [],
   "source": [
    "from sqlalchemy.ext.declarative import declarative_base\n",
    "\n",
    "Base = declarative_base(metadata=metadata)"
   ]
  },
  {
   "cell_type": "code",
   "execution_count": 34,
   "metadata": {
    "collapsed": false
   },
   "outputs": [],
   "source": [
    "class Actor(Base):\n",
    "    \"\"\" An actor \"\"\"\n",
    "    __tablename__ = 'actors'\n",
    "    __table_args__ = {'extend_existing': True}\n",
    "\n",
    "    id = Column('id', Integer, primary_key=True)\n",
    "    name = Column('name', Unicode, nullable=False)\n",
    "   \n",
    "\n",
    "class Genre(Base):\n",
    "    \"\"\" A Genre \"\"\"\n",
    "    __table__ = genres  # Re-using our existing table\n",
    "    \n",
    "    \n",
    "class Director(Base):\n",
    "    \"\"\" A Director \"\"\"\n",
    "    __tablename__ = 'directors'\n",
    "    __table_args__ = {'extend_existing': True}\n",
    "\n",
    "    id = Column('id', Integer, primary_key=True)\n",
    "    name = Column('name', Unicode, nullable=False)\n"
   ]
  },
  {
   "cell_type": "code",
   "execution_count": 35,
   "metadata": {
    "collapsed": false
   },
   "outputs": [],
   "source": [
    "Base.metadata.create_all(engine)"
   ]
  },
  {
   "cell_type": "markdown",
   "metadata": {},
   "source": [
    "### Defining relationships\n",
    "Just mapping tables to classes does not give us a whole lot unless we can actually define some deeper relations"
   ]
  },
  {
   "cell_type": "code",
   "execution_count": 36,
   "metadata": {
    "collapsed": false
   },
   "outputs": [],
   "source": [
    "from sqlalchemy.orm import relationship\n",
    "from sqlalchemy import PrimaryKeyConstraint\n",
    "\n",
    "actors_to_films = Table('actors_to_films', metadata,\n",
    "    Column('actor_id', Integer, ForeignKey('actors.id'), primary_key=True),\n",
    "    Column('film_id', Integer, ForeignKey('films.id'), primary_key=True),\n",
    "    extend_existing=True\n",
    ")\n",
    "\n",
    "genre_to_films = Table('genre_to_films', metadata,\n",
    "    Column('genre_id', Integer, ForeignKey('genre.id')),\n",
    "    Column('film_id', Integer, ForeignKey('films.id')),\n",
    "    PrimaryKeyConstraint('genre_id', 'film_id'),\n",
    "    extend_existing=True\n",
    "                       \n",
    ")\n",
    "\n",
    "\n",
    "class Film(Base):\n",
    "    \"\"\" A film \"\"\"\n",
    "    __tablename__ = 'films'\n",
    "    __table_args__ = {'extend_existing': True}\n",
    "    \n",
    "    id = Column('id', Integer, primary_key=True)\n",
    "    title = Column('title', Unicode(40), nullable=False)\n",
    "    date_produced = Column('date_produced', DateTime)\n",
    "    \n",
    "    # One to Many\n",
    "    director_id = Column('director_id', Integer, ForeignKey(\"directors.id\"), nullable=True)\n",
    "    director = relationship(\"Director\")\n",
    "    \n",
    "    # Many to many relationships\n",
    "    actors = relationship(\"Actor\", secondary=actors_to_films)\n",
    "    \n",
    "    genres = relationship(\"Genre\", secondary=genre_to_films)\n"
   ]
  },
  {
   "cell_type": "markdown",
   "metadata": {},
   "source": [
    "## Querying with the ORM, sessions\n",
    "SQLAlchemy uses the ``Unit of Work`` pattern to handle manipulating the ORM. So we need to take a quick dive into how that works.\n",
    "\n",
    "A ``session`` is a holding ground for all queries/changes made to the objects mapped by the ORM. It maintains it's own internal state to track changes, and will (generally) automatically resolve dependent changes for you.\n",
    "\n",
    "## Take a quick detour to\n",
    "http://docs.sqlalchemy.org/en/latest/orm/session_basics.html and http://www.aosabook.org/en/sqlalchemy.html#fig.sqlalchemy.session"
   ]
  },
  {
   "cell_type": "code",
   "execution_count": 37,
   "metadata": {
    "collapsed": true
   },
   "outputs": [],
   "source": [
    "from sqlalchemy.orm import sessionmaker\n",
    "\n",
    "\n",
    "# create a configured \"Session\" class\n",
    "Session = sessionmaker(bind=engine)\n",
    "\n",
    "# create a Session\n",
    "session = Session()"
   ]
  },
  {
   "cell_type": "code",
   "execution_count": 38,
   "metadata": {
    "collapsed": false
   },
   "outputs": [
    {
     "data": {
      "text/plain": [
       "True"
      ]
     },
     "execution_count": 38,
     "metadata": {},
     "output_type": "execute_result"
    }
   ],
   "source": [
    "session.is_active"
   ]
  },
  {
   "cell_type": "code",
   "execution_count": 39,
   "metadata": {
    "collapsed": false
   },
   "outputs": [
    {
     "name": "stdout",
     "output_type": "stream",
     "text": [
      "<__main__.Film object at 0x7f52713646d8>\n",
      "<__main__.Film object at 0x7f5271364748>\n",
      "<__main__.Film object at 0x7f52713647b8>\n",
      "<__main__.Film object at 0x7f5271364828>\n",
      "<__main__.Film object at 0x7f5271364898>\n",
      "<__main__.Film object at 0x7f5271364908>\n",
      "<__main__.Film object at 0x7f5271364978>\n",
      "<__main__.Film object at 0x7f52713649e8>\n",
      "<__main__.Film object at 0x7f5271364a90>\n",
      "<__main__.Film object at 0x7f5271364b38>\n",
      "<__main__.Film object at 0x7f5271364be0>\n",
      "<__main__.Film object at 0x7f5271364c88>\n",
      "<__main__.Film object at 0x7f5271364d30>\n",
      "<__main__.Film object at 0x7f5271364dd8>\n",
      "<__main__.Film object at 0x7f5271364e80>\n",
      "<__main__.Film object at 0x7f5271364f28>\n",
      "<__main__.Film object at 0x7f5271364fd0>\n",
      "<__main__.Film object at 0x7f527136b0b8>\n",
      "<__main__.Film object at 0x7f527136b160>\n",
      "<__main__.Film object at 0x7f527136b208>\n",
      "<__main__.Film object at 0x7f527136b2b0>\n"
     ]
    }
   ],
   "source": [
    "res = session.query(Film)\n",
    "for obj in res:\n",
    "    pprint(obj)"
   ]
  },
  {
   "cell_type": "code",
   "execution_count": 40,
   "metadata": {
    "collapsed": false
   },
   "outputs": [
    {
     "name": "stdout",
     "output_type": "stream",
     "text": [
      "(1, 'Star Wars Episode IV - A New Hope')\n",
      "(3, 'The Godfather')\n",
      "(4, 'The Shawshank Redemption')\n",
      "(6, 'Raging Bull')\n",
      "(7, 'Casablanca')\n",
      "(8, 'Citizen Kane')\n",
      "(10, 'The Wizard of Oz')\n",
      "(12, 'Lawrence of Arabia')\n",
      "(15, 'The Godfather: Part II')\n",
      "(16, 'On the Waterfront')\n",
      "(17, 'Sunset Boulevard')\n",
      "(20, '12 Angry Men')\n"
     ]
    }
   ],
   "source": [
    "res = session.query(Film).filter(Film.title.ilike('%a%'))\n",
    "for obj in res:\n",
    "    pprint((obj.id, obj.title))"
   ]
  },
  {
   "cell_type": "markdown",
   "metadata": {},
   "source": [
    "All of the querying work we did with ``Table`` above applies to the ORM! The only major difference is referencing columns by their property name ``Film.id`` vs their column ``films.c.id``."
   ]
  },
  {
   "cell_type": "code",
   "execution_count": 41,
   "metadata": {
    "collapsed": false
   },
   "outputs": [],
   "source": [
    "session.close()  # Closing out our session"
   ]
  },
  {
   "cell_type": "markdown",
   "metadata": {},
   "source": [
    "### Hybrid properties\n",
    "\n",
    "Sometimes you've a property that just doesn't quite match directly to SQL. You can write some mapping code to do this via Python, and then some hints to enable it directly in SQL!"
   ]
  },
  {
   "cell_type": "code",
   "execution_count": 42,
   "metadata": {
    "collapsed": false
   },
   "outputs": [],
   "source": [
    "from sqlalchemy.ext.hybrid import hybrid_property\n",
    "\n",
    "class GenreToFilm(Base):\n",
    "    __table__ = genre_to_films\n",
    "    film = relationship(\"Film\")\n",
    "\n",
    "class Film2(Film):\n",
    "    \"\"\" A film \"\"\"\n",
    "    __table__ = Film.__table__\n",
    "    __table_args__ = {'extend_existing': True}\n",
    "    \n",
    "    director = relationship(\"Director\")\n",
    "    \n",
    "    # Many to many relationships\n",
    "    actors = relationship(\"Actor\", secondary=actors_to_films)\n",
    "    \n",
    "    genres = relationship(\"Genre\", secondary=genre_to_films)\n",
    "    \n",
    "    @hybrid_property\n",
    "    def csv_genres(self):\n",
    "        return \", \".join([g.name for g in self.genres])\n",
    "    \n",
    "    @csv_genres.expression\n",
    "    def csv_genres(cls):\n",
    "        return select(\n",
    "            [func.group_concat(Genre.name, ', ')]\n",
    "        ).select_from(\n",
    "            Genre.__table__.join(\n",
    "                genre_to_films, genre_to_films.c.genre_id==Genre.id\n",
    "            )\n",
    "        ).where(genre_to_films.c.film_id==cls.id\n",
    "        ).label('csv_genres')\n",
    "    \n",
    "   "
   ]
  },
  {
   "cell_type": "code",
   "execution_count": 43,
   "metadata": {
    "collapsed": false
   },
   "outputs": [
    {
     "name": "stdout",
     "output_type": "stream",
     "text": [
      "('Star Wars Episode IV - A New Hope', '')\n",
      "('The Thing', 'Action')\n",
      "('The Godfather', 'Crime, Drama')\n",
      "('The Shawshank Redemption', 'Crime, Drama')\n",
      "('Schindlers List', 'Biography, Drama, History')\n",
      "('Raging Bull', 'Biography, Drama, Sport')\n",
      "('Casablanca', 'Drama, Romance, War')\n",
      "('Citizen Kane', 'Drama, Mystery')\n",
      "('Gone with the Wind', 'Drama, History, Romance')\n",
      "('The Wizard of Oz', 'Adventure, Family, Fantasy')\n",
      "('One Flew Over the Cuckoos Nest', 'Drama')\n",
      "('Lawrence of Arabia', 'Adventure, Biography, Drama')\n",
      "('Vertigo', 'Mystery, Romance, Thriller')\n",
      "('Psycho', 'Horror, Mystery, Thriller')\n",
      "('The Godfather: Part II', 'Crime, Drama')\n",
      "('On the Waterfront', 'Crime, Drama, Thriller')\n",
      "('Sunset Boulevard', 'Drama, Film-Noir')\n",
      "('Forrest Gump', 'Comedy, Drama')\n",
      "('The Sound of Music', 'Biography, Drama, Family')\n",
      "('12 Angry Men', 'Crime, Drama')\n",
      "('West Side Story', 'Crime, Drama, Musical')\n",
      "----------------------------------------\n",
      "('Star Wars Episode IV - A New Hope', None)\n",
      "('The Thing', 'Action')\n",
      "('The Godfather', 'Crime, Drama')\n",
      "('The Shawshank Redemption', 'Crime, Drama')\n",
      "('Schindlers List', 'Biography, Drama, History')\n",
      "('Raging Bull', 'Biography, Drama, Sport')\n",
      "('Casablanca', 'Drama, Romance, War')\n",
      "('Citizen Kane', 'Drama, Mystery')\n",
      "('Gone with the Wind', 'Drama, History, Romance')\n",
      "('The Wizard of Oz', 'Adventure, Family, Fantasy')\n",
      "('One Flew Over the Cuckoos Nest', 'Drama')\n",
      "('Lawrence of Arabia', 'Adventure, Biography, Drama')\n",
      "('Vertigo', 'Mystery, Romance, Thriller')\n",
      "('Psycho', 'Horror, Mystery, Thriller')\n",
      "('The Godfather: Part II', 'Crime, Drama')\n",
      "('On the Waterfront', 'Crime, Drama, Thriller')\n",
      "('Sunset Boulevard', 'Drama, Film-Noir')\n",
      "('Forrest Gump', 'Comedy, Drama')\n",
      "('The Sound of Music', 'Biography, Drama, Family')\n",
      "('12 Angry Men', 'Crime, Drama')\n",
      "('West Side Story', 'Crime, Drama, Musical')\n"
     ]
    }
   ],
   "source": [
    "# Emitting a new query every time\n",
    "for f in session.query(Film2):\n",
    "    print((f.title, f.csv_genres))\n",
    "    \n",
    "print('-'*40)\n",
    "\n",
    "# Pushing all the work to SQL\n",
    "for m in session.query(Film2.title, Film2.csv_genres):\n",
    "    print(m)\n"
   ]
  },
  {
   "cell_type": "code",
   "execution_count": 44,
   "metadata": {
    "collapsed": false
   },
   "outputs": [
    {
     "name": "stdout",
     "output_type": "stream",
     "text": [
      "SELECT films.title AS films_title, (SELECT group_concat(genre.name, ?) AS group_concat_1 \n",
      "FROM genre JOIN genre_to_films ON genre_to_films.genre_id = genre.id \n",
      "WHERE genre_to_films.film_id = films.id) AS csv_genres \n",
      "FROM films\n"
     ]
    }
   ],
   "source": [
    "# The executed SQL query\n",
    "print(session.query(Film2.title, Film2.csv_genres))"
   ]
  },
  {
   "cell_type": "markdown",
   "metadata": {},
   "source": [
    "## Joinedload / query optimization\n",
    "Being able to query relationships on the fly is quite powerful, but let's see what the ORM is doing under the hood to make this all happen."
   ]
  },
  {
   "cell_type": "code",
   "execution_count": 45,
   "metadata": {
    "collapsed": false
   },
   "outputs": [
    {
     "name": "stdout",
     "output_type": "stream",
     "text": [
      "('Star Wars Episode IV - A New Hope', [])\n",
      "('The Thing', [<__main__.Genre object at 0x7f5271312dd8>])\n",
      "('The Godfather', [<__main__.Genre object at 0x7f527138a940>, <__main__.Genre object at 0x7f527138a9e8>])\n",
      "('The Shawshank Redemption', [<__main__.Genre object at 0x7f527138a940>, <__main__.Genre object at 0x7f527138a9e8>])\n",
      "('Schindlers List', [<__main__.Genre object at 0x7f527136bcf8>, <__main__.Genre object at 0x7f527138a9e8>, <__main__.Genre object at 0x7f527136be10>])\n",
      "('Raging Bull', [<__main__.Genre object at 0x7f527136bcf8>, <__main__.Genre object at 0x7f527138a9e8>, <__main__.Genre object at 0x7f5271312eb8>])\n",
      "('Casablanca', [<__main__.Genre object at 0x7f527138a9e8>, <__main__.Genre object at 0x7f5271312908>, <__main__.Genre object at 0x7f5271312f28>])\n",
      "('Citizen Kane', [<__main__.Genre object at 0x7f527138a9e8>, <__main__.Genre object at 0x7f5271312a20>])\n",
      "('Gone with the Wind', [<__main__.Genre object at 0x7f527138a9e8>, <__main__.Genre object at 0x7f527136be10>, <__main__.Genre object at 0x7f5271312908>])\n",
      "('The Wizard of Oz', [<__main__.Genre object at 0x7f52713122e8>, <__main__.Genre object at 0x7f5271312940>, <__main__.Genre object at 0x7f52713127f0>])\n",
      "('One Flew Over the Cuckoos Nest', [<__main__.Genre object at 0x7f527138a9e8>])\n",
      "('Lawrence of Arabia', [<__main__.Genre object at 0x7f52713122e8>, <__main__.Genre object at 0x7f527136bcf8>, <__main__.Genre object at 0x7f527138a9e8>])\n",
      "('Vertigo', [<__main__.Genre object at 0x7f5271312a20>, <__main__.Genre object at 0x7f5271312908>, <__main__.Genre object at 0x7f527138a358>])\n",
      "('Psycho', [<__main__.Genre object at 0x7f527138add8>, <__main__.Genre object at 0x7f5271312a20>, <__main__.Genre object at 0x7f527138a358>])\n",
      "('The Godfather: Part II', [<__main__.Genre object at 0x7f527138a940>, <__main__.Genre object at 0x7f527138a9e8>])\n",
      "('On the Waterfront', [<__main__.Genre object at 0x7f527138a940>, <__main__.Genre object at 0x7f527138a9e8>, <__main__.Genre object at 0x7f527138a358>])\n",
      "('Sunset Boulevard', [<__main__.Genre object at 0x7f527138a9e8>, <__main__.Genre object at 0x7f527138ae48>])\n",
      "('Forrest Gump', [<__main__.Genre object at 0x7f527138a320>, <__main__.Genre object at 0x7f527138a9e8>])\n",
      "('The Sound of Music', [<__main__.Genre object at 0x7f527136bcf8>, <__main__.Genre object at 0x7f527138a9e8>, <__main__.Genre object at 0x7f5271312940>])\n",
      "('12 Angry Men', [<__main__.Genre object at 0x7f527138a940>, <__main__.Genre object at 0x7f527138a9e8>])\n",
      "('West Side Story', [<__main__.Genre object at 0x7f527138a940>, <__main__.Genre object at 0x7f527138a9e8>, <__main__.Genre object at 0x7f5271312e10>])\n"
     ]
    }
   ],
   "source": [
    "# Enable echo=True on engine\n",
    "for f in session.query(Film2):\n",
    "    print((f.title, f.genres))"
   ]
  },
  {
   "cell_type": "markdown",
   "metadata": {},
   "source": [
    "but SQLAlchemy always has a way. We can controll this via loading strategies\n",
    "\n",
    "http://docs.sqlalchemy.org/en/latest/orm/loading_relationships.html?highlight=joinedload#relationship-loading-techniques"
   ]
  },
  {
   "cell_type": "code",
   "execution_count": 46,
   "metadata": {
    "collapsed": false
   },
   "outputs": [
    {
     "name": "stdout",
     "output_type": "stream",
     "text": [
      "('Star Wars Episode IV - A New Hope', [])\n",
      "('The Thing', [<__main__.Genre object at 0x7f527131f6a0>])\n",
      "('The Godfather', [<__main__.Genre object at 0x7f527138a940>, <__main__.Genre object at 0x7f527138a9e8>])\n",
      "('The Shawshank Redemption', [<__main__.Genre object at 0x7f527138a940>, <__main__.Genre object at 0x7f527138a9e8>])\n",
      "('Schindlers List', [<__main__.Genre object at 0x7f527131f908>, <__main__.Genre object at 0x7f527138a9e8>, <__main__.Genre object at 0x7f527131f978>])\n",
      "('Raging Bull', [<__main__.Genre object at 0x7f527131fa90>, <__main__.Genre object at 0x7f527131f908>, <__main__.Genre object at 0x7f527138a9e8>])\n",
      "('Casablanca', [<__main__.Genre object at 0x7f527138a588>, <__main__.Genre object at 0x7f527138a240>, <__main__.Genre object at 0x7f527138a9e8>])\n",
      "('Citizen Kane', [<__main__.Genre object at 0x7f527138a518>, <__main__.Genre object at 0x7f527138a9e8>])\n",
      "('Gone with the Wind', [<__main__.Genre object at 0x7f527138a588>, <__main__.Genre object at 0x7f527138a9e8>, <__main__.Genre object at 0x7f527131f978>])\n",
      "('The Wizard of Oz', [<__main__.Genre object at 0x7f527138a5f8>, <__main__.Genre object at 0x7f527138a4a8>, <__main__.Genre object at 0x7f527138aa58>])\n",
      "('One Flew Over the Cuckoos Nest', [<__main__.Genre object at 0x7f527138a9e8>])\n",
      "('Lawrence of Arabia', [<__main__.Genre object at 0x7f527131f908>, <__main__.Genre object at 0x7f527138a9e8>, <__main__.Genre object at 0x7f527138a4a8>])\n",
      "('Vertigo', [<__main__.Genre object at 0x7f527138a588>, <__main__.Genre object at 0x7f52713129e8>, <__main__.Genre object at 0x7f527138a518>])\n",
      "('Psycho', [<__main__.Genre object at 0x7f52713129e8>, <__main__.Genre object at 0x7f52713127b8>, <__main__.Genre object at 0x7f527138a518>])\n",
      "('The Godfather: Part II', [<__main__.Genre object at 0x7f527138a940>, <__main__.Genre object at 0x7f527138a9e8>])\n",
      "('On the Waterfront', [<__main__.Genre object at 0x7f527138a940>, <__main__.Genre object at 0x7f52713129e8>, <__main__.Genre object at 0x7f527138a9e8>])\n",
      "('Sunset Boulevard', [<__main__.Genre object at 0x7f5271312c88>, <__main__.Genre object at 0x7f527138a9e8>])\n",
      "('Forrest Gump', [<__main__.Genre object at 0x7f527136ba90>, <__main__.Genre object at 0x7f527138a9e8>])\n",
      "('The Sound of Music', [<__main__.Genre object at 0x7f527138a5f8>, <__main__.Genre object at 0x7f527131f908>, <__main__.Genre object at 0x7f527138a9e8>])\n",
      "('12 Angry Men', [<__main__.Genre object at 0x7f527138a940>, <__main__.Genre object at 0x7f527138a9e8>])\n",
      "('West Side Story', [<__main__.Genre object at 0x7f527138a940>, <__main__.Genre object at 0x7f527138a9e8>, <__main__.Genre object at 0x7f5271312e10>])\n"
     ]
    }
   ],
   "source": [
    "from sqlalchemy.orm import joinedload, subqueryload\n",
    "\n",
    "for f in session.query(Film2).options(joinedload('genres')):\n",
    "    print((f.title, f.genres))"
   ]
  },
  {
   "cell_type": "code",
   "execution_count": 47,
   "metadata": {
    "collapsed": false
   },
   "outputs": [
    {
     "name": "stdout",
     "output_type": "stream",
     "text": [
      "('Star Wars Episode IV - A New Hope', [])\n",
      "('The Thing', [<__main__.Genre object at 0x7f527131f4e0>])\n",
      "('The Godfather', [<__main__.Genre object at 0x7f527138a940>, <__main__.Genre object at 0x7f527138a9e8>])\n",
      "('The Shawshank Redemption', [<__main__.Genre object at 0x7f527138a940>, <__main__.Genre object at 0x7f527138a9e8>])\n",
      "('Schindlers List', [<__main__.Genre object at 0x7f527131fb70>, <__main__.Genre object at 0x7f527138a9e8>, <__main__.Genre object at 0x7f527131fc18>])\n",
      "('Raging Bull', [<__main__.Genre object at 0x7f527131fb70>, <__main__.Genre object at 0x7f527138a9e8>, <__main__.Genre object at 0x7f527131fcc0>])\n",
      "('Casablanca', [<__main__.Genre object at 0x7f527138a9e8>, <__main__.Genre object at 0x7f527131fd68>, <__main__.Genre object at 0x7f527131fdd8>])\n",
      "('Citizen Kane', [<__main__.Genre object at 0x7f527138a9e8>, <__main__.Genre object at 0x7f527131feb8>])\n",
      "('Gone with the Wind', [<__main__.Genre object at 0x7f527138a9e8>, <__main__.Genre object at 0x7f527131fc18>, <__main__.Genre object at 0x7f527131fd68>])\n",
      "('The Wizard of Oz', [<__main__.Genre object at 0x7f527131ff60>, <__main__.Genre object at 0x7f527131ffd0>, <__main__.Genre object at 0x7f5271336080>])\n",
      "('One Flew Over the Cuckoos Nest', [<__main__.Genre object at 0x7f527138a9e8>])\n",
      "('Lawrence of Arabia', [<__main__.Genre object at 0x7f527131ff60>, <__main__.Genre object at 0x7f527131fb70>, <__main__.Genre object at 0x7f527138a9e8>])\n",
      "('Vertigo', [<__main__.Genre object at 0x7f527131feb8>, <__main__.Genre object at 0x7f527131fd68>, <__main__.Genre object at 0x7f527138ae10>])\n",
      "('Psycho', [<__main__.Genre object at 0x7f5271312be0>, <__main__.Genre object at 0x7f527131feb8>, <__main__.Genre object at 0x7f527138ae10>])\n",
      "('The Godfather: Part II', [<__main__.Genre object at 0x7f527138a940>, <__main__.Genre object at 0x7f527138a9e8>])\n",
      "('On the Waterfront', [<__main__.Genre object at 0x7f527138a940>, <__main__.Genre object at 0x7f527138a9e8>, <__main__.Genre object at 0x7f527138ae10>])\n",
      "('Sunset Boulevard', [<__main__.Genre object at 0x7f527138a9e8>, <__main__.Genre object at 0x7f52713361d0>])\n",
      "('Forrest Gump', [<__main__.Genre object at 0x7f5271336240>, <__main__.Genre object at 0x7f527138a9e8>])\n",
      "('The Sound of Music', [<__main__.Genre object at 0x7f527131fb70>, <__main__.Genre object at 0x7f527138a9e8>, <__main__.Genre object at 0x7f527131ffd0>])\n",
      "('12 Angry Men', [<__main__.Genre object at 0x7f527138a940>, <__main__.Genre object at 0x7f527138a9e8>])\n",
      "('West Side Story', [<__main__.Genre object at 0x7f527138a940>, <__main__.Genre object at 0x7f527138a9e8>, <__main__.Genre object at 0x7f5271312e10>])\n"
     ]
    }
   ],
   "source": [
    "for f in session.query(Film2).options(subqueryload('genres')):\n",
    "    print((f.title, f.genres))"
   ]
  },
  {
   "cell_type": "markdown",
   "metadata": {},
   "source": [
    "## ORM Events \n",
    "\n",
    "Sometimes you want to do something just before / after a Mapping is committed."
   ]
  },
  {
   "cell_type": "code",
   "execution_count": 48,
   "metadata": {
    "collapsed": false
   },
   "outputs": [],
   "source": [
    "from sqlalchemy.event import listen\n",
    "\n",
    "def no_stairway_films(target, value, oldvalue, initiator):\n",
    "    if 'Waynes World' in value:\n",
    "        raise ValueError('No Stairway!')\n",
    "        \n",
    "listen(Film.title, 'set', no_stairway_films)"
   ]
  },
  {
   "cell_type": "code",
   "execution_count": 49,
   "metadata": {
    "collapsed": false,
    "scrolled": true
   },
   "outputs": [
    {
     "ename": "ValueError",
     "evalue": "No Stairway!",
     "output_type": "error",
     "traceback": [
      "\u001b[0;31m---------------------------------------------------------------------------\u001b[0m",
      "\u001b[0;31mValueError\u001b[0m                                Traceback (most recent call last)",
      "\u001b[0;32m<ipython-input-49-4eb6247636f6>\u001b[0m in \u001b[0;36m<module>\u001b[0;34m()\u001b[0m\n\u001b[0;32m----> 1\u001b[0;31m \u001b[0msession\u001b[0m\u001b[0;34m.\u001b[0m\u001b[0madd\u001b[0m\u001b[0;34m(\u001b[0m\u001b[0mFilm\u001b[0m\u001b[0;34m(\u001b[0m\u001b[0mtitle\u001b[0m\u001b[0;34m=\u001b[0m\u001b[0;34m'Waynes World 2'\u001b[0m\u001b[0;34m,\u001b[0m \u001b[0;34m)\u001b[0m\u001b[0;34m)\u001b[0m\u001b[0;34m\u001b[0m\u001b[0m\n\u001b[0m\u001b[1;32m      2\u001b[0m \u001b[0;32mtry\u001b[0m\u001b[0;34m:\u001b[0m\u001b[0;34m\u001b[0m\u001b[0m\n\u001b[1;32m      3\u001b[0m     \u001b[0msession\u001b[0m\u001b[0;34m.\u001b[0m\u001b[0mcommit\u001b[0m\u001b[0;34m(\u001b[0m\u001b[0;34m)\u001b[0m\u001b[0;34m\u001b[0m\u001b[0m\n\u001b[1;32m      4\u001b[0m \u001b[0;32mexcept\u001b[0m \u001b[0mValueError\u001b[0m \u001b[0;32mas\u001b[0m \u001b[0me\u001b[0m\u001b[0;34m:\u001b[0m\u001b[0;34m\u001b[0m\u001b[0m\n\u001b[1;32m      5\u001b[0m     \u001b[0mprint\u001b[0m\u001b[0;34m(\u001b[0m\u001b[0me\u001b[0m\u001b[0;34m)\u001b[0m\u001b[0;34m\u001b[0m\u001b[0m\n",
      "\u001b[0;32m<string>\u001b[0m in \u001b[0;36m__init__\u001b[0;34m(self, **kwargs)\u001b[0m\n",
      "\u001b[0;32m/home/dave/projects/pycon2016-sqlalchemy/venv/lib/python3.4/site-packages/sqlalchemy/orm/state.py\u001b[0m in \u001b[0;36m_initialize_instance\u001b[0;34m(*mixed, **kwargs)\u001b[0m\n\u001b[1;32m    412\u001b[0m         \u001b[0;32mexcept\u001b[0m\u001b[0;34m:\u001b[0m\u001b[0;34m\u001b[0m\u001b[0m\n\u001b[1;32m    413\u001b[0m             \u001b[0;32mwith\u001b[0m \u001b[0mutil\u001b[0m\u001b[0;34m.\u001b[0m\u001b[0msafe_reraise\u001b[0m\u001b[0;34m(\u001b[0m\u001b[0;34m)\u001b[0m\u001b[0;34m:\u001b[0m\u001b[0;34m\u001b[0m\u001b[0m\n\u001b[0;32m--> 414\u001b[0;31m                 \u001b[0mmanager\u001b[0m\u001b[0;34m.\u001b[0m\u001b[0mdispatch\u001b[0m\u001b[0;34m.\u001b[0m\u001b[0minit_failure\u001b[0m\u001b[0;34m(\u001b[0m\u001b[0mself\u001b[0m\u001b[0;34m,\u001b[0m \u001b[0margs\u001b[0m\u001b[0;34m,\u001b[0m \u001b[0mkwargs\u001b[0m\u001b[0;34m)\u001b[0m\u001b[0;34m\u001b[0m\u001b[0m\n\u001b[0m\u001b[1;32m    415\u001b[0m \u001b[0;34m\u001b[0m\u001b[0m\n\u001b[1;32m    416\u001b[0m     \u001b[0;32mdef\u001b[0m \u001b[0mget_history\u001b[0m\u001b[0;34m(\u001b[0m\u001b[0mself\u001b[0m\u001b[0;34m,\u001b[0m \u001b[0mkey\u001b[0m\u001b[0;34m,\u001b[0m \u001b[0mpassive\u001b[0m\u001b[0;34m)\u001b[0m\u001b[0;34m:\u001b[0m\u001b[0;34m\u001b[0m\u001b[0m\n",
      "\u001b[0;32m/home/dave/projects/pycon2016-sqlalchemy/venv/lib/python3.4/site-packages/sqlalchemy/util/langhelpers.py\u001b[0m in \u001b[0;36m__exit__\u001b[0;34m(self, type_, value, traceback)\u001b[0m\n\u001b[1;32m     58\u001b[0m             \u001b[0mexc_type\u001b[0m\u001b[0;34m,\u001b[0m \u001b[0mexc_value\u001b[0m\u001b[0;34m,\u001b[0m \u001b[0mexc_tb\u001b[0m \u001b[0;34m=\u001b[0m \u001b[0mself\u001b[0m\u001b[0;34m.\u001b[0m\u001b[0m_exc_info\u001b[0m\u001b[0;34m\u001b[0m\u001b[0m\n\u001b[1;32m     59\u001b[0m             \u001b[0mself\u001b[0m\u001b[0;34m.\u001b[0m\u001b[0m_exc_info\u001b[0m \u001b[0;34m=\u001b[0m \u001b[0;32mNone\u001b[0m   \u001b[0;31m# remove potential circular references\u001b[0m\u001b[0;34m\u001b[0m\u001b[0m\n\u001b[0;32m---> 60\u001b[0;31m             \u001b[0mcompat\u001b[0m\u001b[0;34m.\u001b[0m\u001b[0mreraise\u001b[0m\u001b[0;34m(\u001b[0m\u001b[0mexc_type\u001b[0m\u001b[0;34m,\u001b[0m \u001b[0mexc_value\u001b[0m\u001b[0;34m,\u001b[0m \u001b[0mexc_tb\u001b[0m\u001b[0;34m)\u001b[0m\u001b[0;34m\u001b[0m\u001b[0m\n\u001b[0m\u001b[1;32m     61\u001b[0m         \u001b[0;32melse\u001b[0m\u001b[0;34m:\u001b[0m\u001b[0;34m\u001b[0m\u001b[0m\n\u001b[1;32m     62\u001b[0m             \u001b[0;32mif\u001b[0m \u001b[0;32mnot\u001b[0m \u001b[0mcompat\u001b[0m\u001b[0;34m.\u001b[0m\u001b[0mpy3k\u001b[0m \u001b[0;32mand\u001b[0m \u001b[0mself\u001b[0m\u001b[0;34m.\u001b[0m\u001b[0m_exc_info\u001b[0m \u001b[0;32mand\u001b[0m \u001b[0mself\u001b[0m\u001b[0;34m.\u001b[0m\u001b[0m_exc_info\u001b[0m\u001b[0;34m[\u001b[0m\u001b[0;36m1\u001b[0m\u001b[0;34m]\u001b[0m\u001b[0;34m:\u001b[0m\u001b[0;34m\u001b[0m\u001b[0m\n",
      "\u001b[0;32m/home/dave/projects/pycon2016-sqlalchemy/venv/lib/python3.4/site-packages/sqlalchemy/util/compat.py\u001b[0m in \u001b[0;36mreraise\u001b[0;34m(tp, value, tb, cause)\u001b[0m\n\u001b[1;32m    184\u001b[0m         \u001b[0;32mif\u001b[0m \u001b[0mvalue\u001b[0m\u001b[0;34m.\u001b[0m\u001b[0m__traceback__\u001b[0m \u001b[0;32mis\u001b[0m \u001b[0;32mnot\u001b[0m \u001b[0mtb\u001b[0m\u001b[0;34m:\u001b[0m\u001b[0;34m\u001b[0m\u001b[0m\n\u001b[1;32m    185\u001b[0m             \u001b[0;32mraise\u001b[0m \u001b[0mvalue\u001b[0m\u001b[0;34m.\u001b[0m\u001b[0mwith_traceback\u001b[0m\u001b[0;34m(\u001b[0m\u001b[0mtb\u001b[0m\u001b[0;34m)\u001b[0m\u001b[0;34m\u001b[0m\u001b[0m\n\u001b[0;32m--> 186\u001b[0;31m         \u001b[0;32mraise\u001b[0m \u001b[0mvalue\u001b[0m\u001b[0;34m\u001b[0m\u001b[0m\n\u001b[0m\u001b[1;32m    187\u001b[0m \u001b[0;34m\u001b[0m\u001b[0m\n\u001b[1;32m    188\u001b[0m \u001b[0;32melse\u001b[0m\u001b[0;34m:\u001b[0m\u001b[0;34m\u001b[0m\u001b[0m\n",
      "\u001b[0;32m/home/dave/projects/pycon2016-sqlalchemy/venv/lib/python3.4/site-packages/sqlalchemy/orm/state.py\u001b[0m in \u001b[0;36m_initialize_instance\u001b[0;34m(*mixed, **kwargs)\u001b[0m\n\u001b[1;32m    409\u001b[0m \u001b[0;34m\u001b[0m\u001b[0m\n\u001b[1;32m    410\u001b[0m         \u001b[0;32mtry\u001b[0m\u001b[0;34m:\u001b[0m\u001b[0;34m\u001b[0m\u001b[0m\n\u001b[0;32m--> 411\u001b[0;31m             \u001b[0;32mreturn\u001b[0m \u001b[0mmanager\u001b[0m\u001b[0;34m.\u001b[0m\u001b[0moriginal_init\u001b[0m\u001b[0;34m(\u001b[0m\u001b[0;34m*\u001b[0m\u001b[0mmixed\u001b[0m\u001b[0;34m[\u001b[0m\u001b[0;36m1\u001b[0m\u001b[0;34m:\u001b[0m\u001b[0;34m]\u001b[0m\u001b[0;34m,\u001b[0m \u001b[0;34m**\u001b[0m\u001b[0mkwargs\u001b[0m\u001b[0;34m)\u001b[0m\u001b[0;34m\u001b[0m\u001b[0m\n\u001b[0m\u001b[1;32m    412\u001b[0m         \u001b[0;32mexcept\u001b[0m\u001b[0;34m:\u001b[0m\u001b[0;34m\u001b[0m\u001b[0m\n\u001b[1;32m    413\u001b[0m             \u001b[0;32mwith\u001b[0m \u001b[0mutil\u001b[0m\u001b[0;34m.\u001b[0m\u001b[0msafe_reraise\u001b[0m\u001b[0;34m(\u001b[0m\u001b[0;34m)\u001b[0m\u001b[0;34m:\u001b[0m\u001b[0;34m\u001b[0m\u001b[0m\n",
      "\u001b[0;32m/home/dave/projects/pycon2016-sqlalchemy/venv/lib/python3.4/site-packages/sqlalchemy/ext/declarative/base.py\u001b[0m in \u001b[0;36m_declarative_constructor\u001b[0;34m(self, **kwargs)\u001b[0m\n\u001b[1;32m    648\u001b[0m                 \u001b[0;34m\"%r is an invalid keyword argument for %s\"\u001b[0m \u001b[0;34m%\u001b[0m\u001b[0;34m\u001b[0m\u001b[0m\n\u001b[1;32m    649\u001b[0m                 (k, cls_.__name__))\n\u001b[0;32m--> 650\u001b[0;31m         \u001b[0msetattr\u001b[0m\u001b[0;34m(\u001b[0m\u001b[0mself\u001b[0m\u001b[0;34m,\u001b[0m \u001b[0mk\u001b[0m\u001b[0;34m,\u001b[0m \u001b[0mkwargs\u001b[0m\u001b[0;34m[\u001b[0m\u001b[0mk\u001b[0m\u001b[0;34m]\u001b[0m\u001b[0;34m)\u001b[0m\u001b[0;34m\u001b[0m\u001b[0m\n\u001b[0m\u001b[1;32m    651\u001b[0m \u001b[0m_declarative_constructor\u001b[0m\u001b[0;34m.\u001b[0m\u001b[0m__name__\u001b[0m \u001b[0;34m=\u001b[0m \u001b[0;34m'__init__'\u001b[0m\u001b[0;34m\u001b[0m\u001b[0m\n\u001b[1;32m    652\u001b[0m \u001b[0;34m\u001b[0m\u001b[0m\n",
      "\u001b[0;32m/home/dave/projects/pycon2016-sqlalchemy/venv/lib/python3.4/site-packages/sqlalchemy/orm/attributes.py\u001b[0m in \u001b[0;36m__set__\u001b[0;34m(self, instance, value)\u001b[0m\n\u001b[1;32m    222\u001b[0m     \u001b[0;32mdef\u001b[0m \u001b[0m__set__\u001b[0m\u001b[0;34m(\u001b[0m\u001b[0mself\u001b[0m\u001b[0;34m,\u001b[0m \u001b[0minstance\u001b[0m\u001b[0;34m,\u001b[0m \u001b[0mvalue\u001b[0m\u001b[0;34m)\u001b[0m\u001b[0;34m:\u001b[0m\u001b[0;34m\u001b[0m\u001b[0m\n\u001b[1;32m    223\u001b[0m         self.impl.set(instance_state(instance),\n\u001b[0;32m--> 224\u001b[0;31m                       instance_dict(instance), value, None)\n\u001b[0m\u001b[1;32m    225\u001b[0m \u001b[0;34m\u001b[0m\u001b[0m\n\u001b[1;32m    226\u001b[0m     \u001b[0;32mdef\u001b[0m \u001b[0m__delete__\u001b[0m\u001b[0;34m(\u001b[0m\u001b[0mself\u001b[0m\u001b[0;34m,\u001b[0m \u001b[0minstance\u001b[0m\u001b[0;34m)\u001b[0m\u001b[0;34m:\u001b[0m\u001b[0;34m\u001b[0m\u001b[0m\n",
      "\u001b[0;32m/home/dave/projects/pycon2016-sqlalchemy/venv/lib/python3.4/site-packages/sqlalchemy/orm/attributes.py\u001b[0m in \u001b[0;36mset\u001b[0;34m(self, state, dict_, value, initiator, passive, check_old, pop)\u001b[0m\n\u001b[1;32m    700\u001b[0m         \u001b[0;32mif\u001b[0m \u001b[0mself\u001b[0m\u001b[0;34m.\u001b[0m\u001b[0mdispatch\u001b[0m\u001b[0;34m.\u001b[0m\u001b[0mset\u001b[0m\u001b[0;34m:\u001b[0m\u001b[0;34m\u001b[0m\u001b[0m\n\u001b[1;32m    701\u001b[0m             value = self.fire_replace_event(state, dict_,\n\u001b[0;32m--> 702\u001b[0;31m                                             value, old, initiator)\n\u001b[0m\u001b[1;32m    703\u001b[0m         \u001b[0mstate\u001b[0m\u001b[0;34m.\u001b[0m\u001b[0m_modified_event\u001b[0m\u001b[0;34m(\u001b[0m\u001b[0mdict_\u001b[0m\u001b[0;34m,\u001b[0m \u001b[0mself\u001b[0m\u001b[0;34m,\u001b[0m \u001b[0mold\u001b[0m\u001b[0;34m)\u001b[0m\u001b[0;34m\u001b[0m\u001b[0m\n\u001b[1;32m    704\u001b[0m         \u001b[0mdict_\u001b[0m\u001b[0;34m[\u001b[0m\u001b[0mself\u001b[0m\u001b[0;34m.\u001b[0m\u001b[0mkey\u001b[0m\u001b[0;34m]\u001b[0m \u001b[0;34m=\u001b[0m \u001b[0mvalue\u001b[0m\u001b[0;34m\u001b[0m\u001b[0m\n",
      "\u001b[0;32m/home/dave/projects/pycon2016-sqlalchemy/venv/lib/python3.4/site-packages/sqlalchemy/orm/attributes.py\u001b[0m in \u001b[0;36mfire_replace_event\u001b[0;34m(self, state, dict_, value, previous, initiator)\u001b[0m\n\u001b[1;32m    709\u001b[0m                 \u001b[0mstate\u001b[0m\u001b[0;34m,\u001b[0m \u001b[0mvalue\u001b[0m\u001b[0;34m,\u001b[0m \u001b[0mprevious\u001b[0m\u001b[0;34m,\u001b[0m\u001b[0;34m\u001b[0m\u001b[0m\n\u001b[1;32m    710\u001b[0m                 \u001b[0minitiator\u001b[0m \u001b[0;32mor\u001b[0m \u001b[0mself\u001b[0m\u001b[0;34m.\u001b[0m\u001b[0m_replace_token\u001b[0m \u001b[0;32mor\u001b[0m\u001b[0;34m\u001b[0m\u001b[0m\n\u001b[0;32m--> 711\u001b[0;31m                 self._init_append_or_replace_token())\n\u001b[0m\u001b[1;32m    712\u001b[0m         \u001b[0;32mreturn\u001b[0m \u001b[0mvalue\u001b[0m\u001b[0;34m\u001b[0m\u001b[0m\n\u001b[1;32m    713\u001b[0m \u001b[0;34m\u001b[0m\u001b[0m\n",
      "\u001b[0;32m/home/dave/projects/pycon2016-sqlalchemy/venv/lib/python3.4/site-packages/sqlalchemy/orm/events.py\u001b[0m in \u001b[0;36mwrap\u001b[0;34m(target, value, *arg)\u001b[0m\n\u001b[1;32m   1882\u001b[0m                     \u001b[0mtarget\u001b[0m \u001b[0;34m=\u001b[0m \u001b[0mtarget\u001b[0m\u001b[0;34m.\u001b[0m\u001b[0mobj\u001b[0m\u001b[0;34m(\u001b[0m\u001b[0;34m)\u001b[0m\u001b[0;34m\u001b[0m\u001b[0m\n\u001b[1;32m   1883\u001b[0m                 \u001b[0;32mif\u001b[0m \u001b[0;32mnot\u001b[0m \u001b[0mretval\u001b[0m\u001b[0;34m:\u001b[0m\u001b[0;34m\u001b[0m\u001b[0m\n\u001b[0;32m-> 1884\u001b[0;31m                     \u001b[0mfn\u001b[0m\u001b[0;34m(\u001b[0m\u001b[0mtarget\u001b[0m\u001b[0;34m,\u001b[0m \u001b[0mvalue\u001b[0m\u001b[0;34m,\u001b[0m \u001b[0;34m*\u001b[0m\u001b[0marg\u001b[0m\u001b[0;34m)\u001b[0m\u001b[0;34m\u001b[0m\u001b[0m\n\u001b[0m\u001b[1;32m   1885\u001b[0m                     \u001b[0;32mreturn\u001b[0m \u001b[0mvalue\u001b[0m\u001b[0;34m\u001b[0m\u001b[0m\n\u001b[1;32m   1886\u001b[0m                 \u001b[0;32melse\u001b[0m\u001b[0;34m:\u001b[0m\u001b[0;34m\u001b[0m\u001b[0m\n",
      "\u001b[0;32m<ipython-input-48-a5c78bfe9f1c>\u001b[0m in \u001b[0;36mno_stairway_films\u001b[0;34m(target, value, oldvalue, initiator)\u001b[0m\n\u001b[1;32m      3\u001b[0m \u001b[0;32mdef\u001b[0m \u001b[0mno_stairway_films\u001b[0m\u001b[0;34m(\u001b[0m\u001b[0mtarget\u001b[0m\u001b[0;34m,\u001b[0m \u001b[0mvalue\u001b[0m\u001b[0;34m,\u001b[0m \u001b[0moldvalue\u001b[0m\u001b[0;34m,\u001b[0m \u001b[0minitiator\u001b[0m\u001b[0;34m)\u001b[0m\u001b[0;34m:\u001b[0m\u001b[0;34m\u001b[0m\u001b[0m\n\u001b[1;32m      4\u001b[0m     \u001b[0;32mif\u001b[0m \u001b[0;34m'Waynes World'\u001b[0m \u001b[0;32min\u001b[0m \u001b[0mvalue\u001b[0m\u001b[0;34m:\u001b[0m\u001b[0;34m\u001b[0m\u001b[0m\n\u001b[0;32m----> 5\u001b[0;31m         \u001b[0;32mraise\u001b[0m \u001b[0mValueError\u001b[0m\u001b[0;34m(\u001b[0m\u001b[0;34m'No Stairway!'\u001b[0m\u001b[0;34m)\u001b[0m\u001b[0;34m\u001b[0m\u001b[0m\n\u001b[0m\u001b[1;32m      6\u001b[0m \u001b[0;34m\u001b[0m\u001b[0m\n\u001b[1;32m      7\u001b[0m \u001b[0mlisten\u001b[0m\u001b[0;34m(\u001b[0m\u001b[0mFilm\u001b[0m\u001b[0;34m.\u001b[0m\u001b[0mtitle\u001b[0m\u001b[0;34m,\u001b[0m \u001b[0;34m'set'\u001b[0m\u001b[0;34m,\u001b[0m \u001b[0mno_stairway_films\u001b[0m\u001b[0;34m)\u001b[0m\u001b[0;34m\u001b[0m\u001b[0m\n",
      "\u001b[0;31mValueError\u001b[0m: No Stairway!"
     ]
    }
   ],
   "source": [
    "session.add(Film(title='Waynes World 2', ))\n",
    "try:\n",
    "    session.commit()\n",
    "except ValueError as e:\n",
    "    print(e)"
   ]
  },
  {
   "cell_type": "markdown",
   "metadata": {},
   "source": [
    "So what events are possible to hook in to?"
   ]
  },
  {
   "cell_type": "code",
   "execution_count": null,
   "metadata": {
    "collapsed": false
   },
   "outputs": [],
   "source": [
    "from sqlalchemy import events\n",
    "\n",
    "dir(events)"
   ]
  },
  {
   "cell_type": "code",
   "execution_count": null,
   "metadata": {
    "collapsed": false
   },
   "outputs": [],
   "source": [
    "from sqlalchemy.orm import events\n",
    "dir(events)\n",
    "\n",
    "help(events.QueryEvents)"
   ]
  },
  {
   "cell_type": "markdown",
   "metadata": {},
   "source": [
    "# Example 2: Access Log\n",
    "Take the example of auditing access to a particular resource. It can be quite daunting to individually instrument every place you make a mutation. What happens if you miss one?\n",
    "\n",
    "Or perhaps extending your Domain model with additional audit-specific logic just isn't working for you"
   ]
  },
  {
   "cell_type": "code",
   "execution_count": 50,
   "metadata": {
    "collapsed": false
   },
   "outputs": [],
   "source": [
    "from sqlalchemy import event\n",
    "from sqlalchemy.orm import Query\n",
    "\n",
    "@event.listens_for(Query, \"before_compile\", retval=True)\n",
    "def check_access_to_genres(query):\n",
    "    for desc in query.column_descriptions:\n",
    "        if desc['type'] is Genre:\n",
    "            print(\"Accessing Genre! {}\".format(desc))"
   ]
  },
  {
   "cell_type": "code",
   "execution_count": 51,
   "metadata": {
    "collapsed": false
   },
   "outputs": [
    {
     "name": "stdout",
     "output_type": "stream",
     "text": [
      "Accessing Genre! {'name': 'Genre', 'aliased': False, 'type': <class '__main__.Genre'>, 'entity': <class '__main__.Genre'>, 'expr': <class '__main__.Genre'>}\n",
      "Sport\n",
      "Family\n",
      "Comedy\n",
      "Crime\n",
      "Romance\n",
      "Thriller\n",
      "Film-Noir\n",
      "War\n",
      "Horror\n",
      "Biography\n",
      "Mystery\n",
      "Action\n",
      "Drama\n",
      "History\n",
      "Adventure\n",
      "Fantasy\n",
      "Musical\n"
     ]
    }
   ],
   "source": [
    "for r in session.query(Genre):\n",
    "    print(r.name)"
   ]
  },
  {
   "cell_type": "markdown",
   "metadata": {},
   "source": [
    "Success!"
   ]
  },
  {
   "cell_type": "code",
   "execution_count": 52,
   "metadata": {
    "collapsed": false
   },
   "outputs": [
    {
     "name": "stdout",
     "output_type": "stream",
     "text": [
      "Sport\n",
      "Family\n",
      "Comedy\n",
      "Crime\n",
      "Romance\n",
      "Thriller\n",
      "Film-Noir\n",
      "War\n",
      "Horror\n",
      "Biography\n",
      "Mystery\n",
      "Action\n",
      "Drama\n",
      "History\n",
      "Adventure\n",
      "Fantasy\n",
      "Musical\n"
     ]
    }
   ],
   "source": [
    "for r in session.query(Genre.name):\n",
    "    print(r.name)"
   ]
  },
  {
   "cell_type": "markdown",
   "metadata": {},
   "source": [
    "Not quite successful, let's look at this in a bit more detail."
   ]
  },
  {
   "cell_type": "code",
   "execution_count": 54,
   "metadata": {
    "collapsed": false
   },
   "outputs": [
    {
     "name": "stdout",
     "output_type": "stream",
     "text": [
      "{'name': 'name', 'aliased': False, 'type': Unicode(), 'entity': <class '__main__.Genre'>, 'expr': <sqlalchemy.orm.attributes.InstrumentedAttribute object at 0x7f527139aa98>}\n",
      "{'name': 'name', 'aliased': False, 'type': Unicode(), 'entity': <class '__main__.Genre'>, 'expr': <sqlalchemy.orm.attributes.InstrumentedAttribute object at 0x7f527139aa98>}\n",
      "Sport\n",
      "Family\n",
      "Comedy\n",
      "Crime\n",
      "Romance\n",
      "Thriller\n",
      "Film-Noir\n",
      "War\n",
      "Horror\n",
      "Biography\n",
      "Mystery\n",
      "Action\n",
      "Drama\n",
      "History\n",
      "Adventure\n",
      "Fantasy\n",
      "Musical\n"
     ]
    }
   ],
   "source": [
    "@event.listens_for(Query, \"before_compile\", retval=True)\n",
    "def check_access_to_genres(query):\n",
    "    for desc in query.column_descriptions:\n",
    "        print(\"{}\".format(desc))\n",
    "        \n",
    "for r in session.query(Genre.name):\n",
    "    print(r.name)"
   ]
  },
  {
   "cell_type": "markdown",
   "metadata": {},
   "source": [
    "# The end!"
   ]
  }
 ],
 "metadata": {
  "kernelspec": {
   "display_name": "Python 3",
   "language": "python",
   "name": "python3"
  },
  "language_info": {
   "codemirror_mode": {
    "name": "ipython",
    "version": 3
   },
   "file_extension": ".py",
   "mimetype": "text/x-python",
   "name": "python",
   "nbconvert_exporter": "python",
   "pygments_lexer": "ipython3",
   "version": "3.4.2"
  }
 },
 "nbformat": 4,
 "nbformat_minor": 1
}
